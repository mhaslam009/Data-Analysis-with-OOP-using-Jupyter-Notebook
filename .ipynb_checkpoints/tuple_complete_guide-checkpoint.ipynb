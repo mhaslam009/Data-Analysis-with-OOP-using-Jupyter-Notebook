{
 "cells": [
  {
   "cell_type": "markdown",
   "id": "d475d2e3",
   "metadata": {},
   "source": [
    "<h1>Tuple</h1>"
   ]
  },
  {
   "cell_type": "markdown",
   "id": "b328bc15",
   "metadata": {},
   "source": [
    "<h2>CREATION<h2>"
   ]
  },
  {
   "cell_type": "code",
   "execution_count": 6,
   "id": "13428269",
   "metadata": {},
   "outputs": [
    {
     "name": "stdout",
     "output_type": "stream",
     "text": [
      "(12, 45, 9.6, 'hamza', 'haha', False, 0.2, 4)\n",
      "('a', 'b', 'c', 'key1', 'key2', 'key3', 'key4', 'key5')\n",
      "(False, 1, 0.67, 0.2, 4, 'sd', 9.6, 'haha', 12, 45, 'ygh', 'hamza')\n",
      "(12, 45, 9.6, 'hamza', 'haha', False, 0.2, 4)\n",
      "[12, 45, 9.6, 'hamza', 'haha', False, 0.2, 4]\n"
     ]
    }
   ],
   "source": [
    "#static way\n",
    "tuple1=(1,\"sd\",True,0.67,\"ygh\",False,90)\n",
    "\n",
    "#dynamic way\n",
    "list1=[12,45,9.6,\"hamza\",\"haha\",False,0.2,4]\n",
    "tuple2=tuple(list1)\n",
    "print(tuple2)\n",
    "dict1={'a': 2, 'b': 3, 'c': 4, 'key1': 1, 'key2': 2, 'key3': 3, 'key4': 4, 'key5': 5}\n",
    "tuple3=tuple(dict1)\n",
    "print(tuple3)\n",
    "set1={12,45,9.6,\"hamza\",\"haha\",False,0.2,4,1,\"sd\",True,0.67,\"ygh\",True}\n",
    "tuple4=tuple(set1)\n",
    "print(tuple4)\n",
    "\n",
    "#copying members of list and convert as a tuple\n",
    "tuple5=tuple(list1[:])\n",
    "print(tuple5)\n",
    "\n",
    "\n",
    "\n",
    "#experiment not dynamic creation of tuple\n",
    "tuple6=list1[:]\n",
    "print(tuple6) #this copied a members of list as list\n",
    "\n"
   ]
  },
  {
   "cell_type": "markdown",
   "id": "957f3846",
   "metadata": {},
   "source": [
    "<h2>2)Subsetting and Slicing</h2>"
   ]
  },
  {
   "cell_type": "code",
   "execution_count": 10,
   "id": "f3443275",
   "metadata": {},
   "outputs": [
    {
     "name": "stdout",
     "output_type": "stream",
     "text": [
      "tuple1 single element-True\n",
      "tuple2 multiple element-(True, 0.67)\n"
     ]
    }
   ],
   "source": [
    "print(f\"tuple1 single element-{tuple1[2]}\")\n",
    "print(f\"tuple2 multiple element-{tuple1[2:4]}\")\n",
    "\n",
    "#its subsetting and slicing is just like a list\n",
    "#tuple is a small sister to list"
   ]
  },
  {
   "cell_type": "markdown",
   "id": "52c86f5b",
   "metadata": {},
   "source": [
    "<h2>3)Addition, Deletion, and Manipulation</h2>"
   ]
  },
  {
   "cell_type": "code",
   "execution_count": 13,
   "id": "595713f7",
   "metadata": {},
   "outputs": [
    {
     "name": "stdout",
     "output_type": "stream",
     "text": [
      "(1, 'sd', True, 0.67, 'ygh', False, 90, 12, 45, 9.6, 'hamza', 'haha', False, 0.2, 4)\n"
     ]
    }
   ],
   "source": [
    "tuple90=tuple1+tuple2\n",
    "print(tuple90)\n",
    "\n",
    "#del(tuple90[-1])\n",
    "#print(tuple90) #the error shows when you have created a tuple you cannot change its elements\n",
    "\n",
    "#either you cannot manipulate it"
   ]
  },
  {
   "cell_type": "markdown",
   "id": "b862a1d4",
   "metadata": {},
   "source": [
    "<h2>4)Functions and Methods of Tuple</h2>"
   ]
  },
  {
   "cell_type": "markdown",
   "id": "b00208e3",
   "metadata": {},
   "source": [
    "<h3>Functions<h3>"
   ]
  },
  {
   "cell_type": "code",
   "execution_count": 17,
   "id": "d1e0516c",
   "metadata": {},
   "outputs": [
    {
     "name": "stdout",
     "output_type": "stream",
     "text": [
      "Help on built-in function max in module builtins:\n",
      "\n",
      "max(...)\n",
      "    max(iterable, *[, default=obj, key=func]) -> value\n",
      "    max(arg1, arg2, *args, *[, key=func]) -> value\n",
      "    \n",
      "    With a single iterable argument, return its biggest item. The\n",
      "    default keyword-only argument specifies an object to return if\n",
      "    the provided iterable is empty.\n",
      "    With two or more arguments, return the largest argument.\n",
      "\n",
      "Help on method_descriptor:\n",
      "\n",
      "index(self, value, start=0, stop=9223372036854775807, /)\n",
      "    Return first index of value.\n",
      "    \n",
      "    Raises ValueError if the value is not present.\n",
      "\n",
      "34\n",
      "-100.5\n",
      "12\n",
      "without sorting-(1, 2, 34, -9, 4, 0, 12, -99, 4.6, 5.3, 9.0, -100.5)\n",
      "with sorted-[-100.5, -99, -9, 0, 1, 2, 4, 4.6, 5.3, 9.0, 12, 34]\n"
     ]
    }
   ],
   "source": [
    "#1)type(): USED\n",
    "\n",
    "#2)help(): TO GET THE SEE THE DOCUMENTATION OF A FUNCTION OR METHOD\n",
    "\n",
    "help(max) #for FUNCTIONS\n",
    "help(tuple.index) #for methods\n",
    "\n",
    "#3)max()\n",
    "\n",
    "\n",
    "tuple100=(1,2,34,-9,4,0,12,-99,4.6,5.3,9.0,-100.5)\n",
    "print(max(tuple100))\n",
    "\n",
    "\n",
    "#3)min()\n",
    "print(min(tuple100))\n",
    "\n",
    "\n",
    "#4)len()\n",
    "print(len(tuple100))\n",
    "\n",
    "#5)Sorted\n",
    "\n",
    "print(f\"without sorting-{tuple100}\")\n",
    "print(f\"with sorted-{sorted(tuple100)}\")\n",
    "#altough sorted can be applied on a tuple just like it was in case of dictionary \n",
    "#and so it changes the type of tuple to list also it arranges the key\n"
   ]
  },
  {
   "cell_type": "markdown",
   "id": "5747f90d",
   "metadata": {},
   "source": [
    "<h3>Methods</h3>"
   ]
  },
  {
   "cell_type": "code",
   "execution_count": null,
   "id": "0ec83173",
   "metadata": {},
   "outputs": [],
   "source": []
  }
 ],
 "metadata": {
  "kernelspec": {
   "display_name": "Python 3 (ipykernel)",
   "language": "python",
   "name": "python3"
  },
  "language_info": {
   "codemirror_mode": {
    "name": "ipython",
    "version": 3
   },
   "file_extension": ".py",
   "mimetype": "text/x-python",
   "name": "python",
   "nbconvert_exporter": "python",
   "pygments_lexer": "ipython3",
   "version": "3.9.13"
  }
 },
 "nbformat": 4,
 "nbformat_minor": 5
}
