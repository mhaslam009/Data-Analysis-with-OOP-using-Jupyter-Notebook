{
 "cells": [
  {
   "cell_type": "markdown",
   "id": "302120db",
   "metadata": {},
   "source": [
    "<h1>Data Visualization Part II</h1>"
   ]
  },
  {
   "cell_type": "markdown",
   "id": "a36d0487",
   "metadata": {},
   "source": [
    "<h1>Import Files to objects</h1>"
   ]
  },
  {
   "cell_type": "code",
   "execution_count": 11,
   "id": "33847ab3",
   "metadata": {},
   "outputs": [],
   "source": [
    "import pandas as pd\n",
    "import glob\n",
    "import pickle\n",
    "\n",
    "directory_path = r'E:\\CAREER_DATA\\data_files\\data_visualization\\*'\n",
    "\n",
    "# Get a list of all files in the directory\n",
    "file_list = glob.glob(directory_path)\n",
    "\n",
    "# Create empty dictionaries to store DataFrames for CSV, TXT, and pickle files\n",
    "csv_dataframes = {}\n",
    "txt_dataframes = {}\n",
    "pickle_dataframes = {}\n",
    "\n",
    "# Loop through each file and import its data into Pandas based on the file extension\n",
    "for file in file_list:\n",
    "    if file.endswith('.csv'):\n",
    "        df = pd.read_csv(file)\n",
    "        \n",
    "        csv_dataframes[file] = df\n",
    "        \n",
    "    elif file.endswith('.txt'):\n",
    "        df = pd.read_csv(file, delimiter='\\t')  # Assuming tab-separated text files. You can change the delimiter if needed.\n",
    "        txt_dataframes[file] = df\n",
    "    elif file.endswith('.p'):\n",
    "        with open(file, 'rb') as f:\n",
    "            df = pickle.load(f)\n",
    "            pickle_dataframes[file] = df\n",
    "\n",
    "# Now, csv_dataframes is a dictionary where keys are CSV file names and values are the corresponding DataFrames.\n",
    "# txt_dataframes is a dictionary where keys are TXT file names and values are the corresponding DataFrames.\n",
    "# pickle_dataframes is a dictionary where keys are pickle file names and values are the corresponding DataFrames.\n",
    "# You can access them using the file names as keys.\n",
    "\n"
   ]
  },
  {
   "cell_type": "markdown",
   "id": "d3046054",
   "metadata": {},
   "source": [
    "<h1>Import multiple files from loaded objects<h1>"
   ]
  },
  {
   "cell_type": "code",
   "execution_count": 12,
   "id": "87be9216",
   "metadata": {},
   "outputs": [
    {
     "name": "stdout",
     "output_type": "stream",
     "text": [
      "CSV file 'E:/CAREER_DATA/data_files/data_visualization/austin_weather.csv' not found.\n",
      "CSV file 'E:/CAREER_DATA/data_files/data_visualization/climate_change.csv' not found.\n",
      "CSV file 'E:/CAREER_DATA/data_files/data_visualization/countries-of-the-world.csv' not found.\n",
      "CSV file 'E:/CAREER_DATA/data_files/data_visualization/medals_by_country_2016.csv' not found.\n",
      "CSV file 'E:/CAREER_DATA/data_files/data_visualization/mpg.csv' not found.\n",
      "CSV file 'E:/CAREER_DATA/data_files/data_visualization/seattle_weather.csv' not found.\n",
      "CSV file 'E:/CAREER_DATA/data_files/data_visualization/student-alcohol-consumption.csv' not found.\n",
      "CSV file 'E:/CAREER_DATA/data_files/data_visualization/summer2016.csv' not found.\n",
      "CSV file 'E:/CAREER_DATA/data_files/data_visualization/young-people-survey-responses.csv' not found.\n",
      "TXT file 'E:/CAREER_DATA/data_files/data_visualization/automobile_insurance.txt' not found.\n",
      "TXT file 'E:/CAREER_DATA/data_files/data_visualization/daily_show_guest.txt' not found.\n",
      "TXT file 'E:/CAREER_DATA/data_files/data_visualization/school_improvemnt_grants.txt' not found.\n",
      "TXT file 'E:/CAREER_DATA/data_files/data_visualization/scorecard_tuition_2018.txt' not found.\n",
      "TXT file 'E:/CAREER_DATA/data_files/data_visualization/us_housing_urban_development.txt' not found.\n",
      "TXT file 'E:/CAREER_DATA/data_files/data_visualization/washington_dc_bike_share.txt' not found.\n",
      "Pickle file 'E:\\CAREER_DATA\\data_files\\data_visualization\\example1.p' not found.\n",
      "Pickle file 'E:\\CAREER_DATA\\data_files\\data_visualization\\example2.p' not found.\n"
     ]
    }
   ],
   "source": [
    "#from above code if we wanted to import multiple files\n",
    "\n",
    "\n",
    "# Assuming you have already executed the code and have the csv_dataframes, txt_dataframes, and pickle_dataframes dictionaries\n",
    "\n",
    "# Accessing multiple CSV files DataFrames\n",
    "csv_files_to_access = [r'E:/CAREER_DATA/data_files/data_visualization/austin_weather.csv',\n",
    "                       r'E:/CAREER_DATA/data_files/data_visualization/climate_change.csv',\n",
    "                      r'E:/CAREER_DATA/data_files/data_visualization/countries-of-the-world.csv',\n",
    "                      r'E:/CAREER_DATA/data_files/data_visualization/medals_by_country_2016.csv',\n",
    "                      r'E:/CAREER_DATA/data_files/data_visualization/mpg.csv',\n",
    "                      r'E:/CAREER_DATA/data_files/data_visualization/seattle_weather.csv',\n",
    "                      r'E:/CAREER_DATA/data_files/data_visualization/student-alcohol-consumption.csv',\n",
    "                      r'E:/CAREER_DATA/data_files/data_visualization/summer2016.csv',\n",
    "                      r'E:/CAREER_DATA/data_files/data_visualization/young-people-survey-responses.csv']\n",
    "csv_dfs = []\n",
    "for csv_file in csv_files_to_access:\n",
    "    if csv_file in csv_dataframes:\n",
    "        df_csv = csv_dataframes[csv_file]\n",
    "        csv_dfs.append(df_csv)\n",
    "    else:\n",
    "        print(f\"CSV file '{csv_file}' not found.\")\n",
    "\n",
    "# Accessing multiple TXT files DataFrames\n",
    "txt_files_to_access = [r'E:/CAREER_DATA/data_files/data_visualization/automobile_insurance.txt',\n",
    "                       r'E:/CAREER_DATA/data_files/data_visualization/daily_show_guest.txt',\n",
    "                      r'E:/CAREER_DATA/data_files/data_visualization/school_improvemnt_grants.txt',\n",
    "                      r'E:/CAREER_DATA/data_files/data_visualization/scorecard_tuition_2018.txt',\n",
    "                      r'E:/CAREER_DATA/data_files/data_visualization/us_housing_urban_development.txt',\n",
    "                      r'E:/CAREER_DATA/data_files/data_visualization/washington_dc_bike_share.txt']\n",
    "txt_dfs = []\n",
    "for txt_file in txt_files_to_access:\n",
    "    if txt_file in txt_dataframes:\n",
    "        df_txt = txt_dataframes[txt_file]\n",
    "        txt_dfs.append(df_txt)\n",
    "    else:\n",
    "        print(f\"TXT file '{txt_file}' not found.\")\n",
    "\n",
    "# Accessing multiple pickle files DataFrames\n",
    "pickle_files_to_access = [r'E:\\CAREER_DATA\\data_files\\data_visualization\\example1.p',\n",
    "                          r'E:\\CAREER_DATA\\data_files\\data_visualization\\example2.p']\n",
    "pickle_dfs = []\n",
    "for pickle_file in pickle_files_to_access:\n",
    "    if pickle_file in pickle_dataframes:\n",
    "        df_pickle = pickle_dataframes[pickle_file]\n",
    "        pickle_dfs.append(df_pickle)\n",
    "    else:\n",
    "        print(f\"Pickle file '{pickle_file}' not found.\")\n",
    "\n"
   ]
  },
  {
   "cell_type": "markdown",
   "id": "9b731d9b",
   "metadata": {},
   "source": [
    "<h3>Files not found<h3>"
   ]
  },
  {
   "cell_type": "code",
   "execution_count": 18,
   "id": "44dbf1bd",
   "metadata": {},
   "outputs": [
    {
     "name": "stdout",
     "output_type": "stream",
     "text": [
      " Volume in drive E is SSD\n",
      " Volume Serial Number is 3858-C2A8\n",
      "\n",
      " Directory of E:\\CAREER_DATA\\jupyter_files\n",
      "\n"
     ]
    },
    {
     "name": "stderr",
     "output_type": "stream",
     "text": [
      "File Not Found\n"
     ]
    }
   ],
   "source": [
    "\n",
    "!dir E:\\CAREER_DATA\\jupyter_files\\data_visualization\n",
    "    "
   ]
  },
  {
   "cell_type": "code",
   "execution_count": null,
   "id": "4fedd6f2",
   "metadata": {},
   "outputs": [],
   "source": []
  }
 ],
 "metadata": {
  "kernelspec": {
   "display_name": "Python 3 (ipykernel)",
   "language": "python",
   "name": "python3"
  },
  "language_info": {
   "codemirror_mode": {
    "name": "ipython",
    "version": 3
   },
   "file_extension": ".py",
   "mimetype": "text/x-python",
   "name": "python",
   "nbconvert_exporter": "python",
   "pygments_lexer": "ipython3",
   "version": "3.9.13"
  }
 },
 "nbformat": 4,
 "nbformat_minor": 5
}
