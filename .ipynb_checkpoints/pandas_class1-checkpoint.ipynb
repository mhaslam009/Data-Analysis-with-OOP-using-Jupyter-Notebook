{
 "cells": [
  {
   "cell_type": "markdown",
   "id": "799fb92f",
   "metadata": {},
   "source": [
    "<h1>HELLO WORLD!</h1>\n",
    "<p>all print techniques</p>"
   ]
  },
  {
   "cell_type": "code",
   "execution_count": 128,
   "id": "a0d11bfa",
   "metadata": {},
   "outputs": [
    {
     "name": "stdout",
     "output_type": "stream",
     "text": [
      "Hello World!\n",
      "HelloHamza\n",
      "HelloHamza\n"
     ]
    }
   ],
   "source": [
    "print(\"Hello World!\")\n",
    "my_name=\"Hamza\"\n",
    "print('Hello{}'.format(my_name))\n",
    "print(f'Hello{my_name}')"
   ]
  },
  {
   "cell_type": "code",
   "execution_count": 129,
   "id": "b71ed664",
   "metadata": {},
   "outputs": [
    {
     "name": "stdout",
     "output_type": "stream",
     "text": [
      "[12 34 67 89]\n"
     ]
    }
   ],
   "source": [
    "import numpy as np \n",
    "height_np=np.array([12,34,67,89])\n",
    "print(height_np)"
   ]
  },
  {
   "cell_type": "code",
   "execution_count": 130,
   "id": "51ecfda7",
   "metadata": {},
   "outputs": [
    {
     "data": {
      "text/html": [
       "<div>\n",
       "<style scoped>\n",
       "    .dataframe tbody tr th:only-of-type {\n",
       "        vertical-align: middle;\n",
       "    }\n",
       "\n",
       "    .dataframe tbody tr th {\n",
       "        vertical-align: top;\n",
       "    }\n",
       "\n",
       "    .dataframe thead th {\n",
       "        text-align: right;\n",
       "    }\n",
       "</style>\n",
       "<table border=\"1\" class=\"dataframe\">\n",
       "  <thead>\n",
       "    <tr style=\"text-align: right;\">\n",
       "      <th></th>\n",
       "      <th>country</th>\n",
       "      <th>capital</th>\n",
       "      <th>area</th>\n",
       "      <th>population</th>\n",
       "    </tr>\n",
       "  </thead>\n",
       "  <tbody>\n",
       "    <tr>\n",
       "      <th>BR</th>\n",
       "      <td>Brazil</td>\n",
       "      <td>Brasilia</td>\n",
       "      <td>8.516</td>\n",
       "      <td>200.40</td>\n",
       "    </tr>\n",
       "    <tr>\n",
       "      <th>RU</th>\n",
       "      <td>Russia</td>\n",
       "      <td>Moscow</td>\n",
       "      <td>17.100</td>\n",
       "      <td>143.50</td>\n",
       "    </tr>\n",
       "    <tr>\n",
       "      <th>IN</th>\n",
       "      <td>India</td>\n",
       "      <td>New Delhi</td>\n",
       "      <td>3.286</td>\n",
       "      <td>1252.00</td>\n",
       "    </tr>\n",
       "    <tr>\n",
       "      <th>CH</th>\n",
       "      <td>China</td>\n",
       "      <td>Beijing</td>\n",
       "      <td>9.597</td>\n",
       "      <td>1357.00</td>\n",
       "    </tr>\n",
       "    <tr>\n",
       "      <th>SA</th>\n",
       "      <td>South Africa</td>\n",
       "      <td>Pretoria</td>\n",
       "      <td>1.221</td>\n",
       "      <td>52.98</td>\n",
       "    </tr>\n",
       "  </tbody>\n",
       "</table>\n",
       "</div>"
      ],
      "text/plain": [
       "         country    capital    area  population\n",
       "BR        Brazil   Brasilia   8.516      200.40\n",
       "RU        Russia     Moscow  17.100      143.50\n",
       "IN         India  New Delhi   3.286     1252.00\n",
       "CH         China    Beijing   9.597     1357.00\n",
       "SA  South Africa   Pretoria   1.221       52.98"
      ]
     },
     "execution_count": 130,
     "metadata": {},
     "output_type": "execute_result"
    }
   ],
   "source": [
    "import pandas as pd\n",
    "brics_df=pd.read_csv(\"E:\\CAREER_DATA\\data_files\\\\brics.txt\",index_col=0)\n",
    "brics_df"
   ]
  },
  {
   "cell_type": "markdown",
   "id": "67a2e625",
   "metadata": {},
   "source": [
    "<h1>Tips and tricks of data manipulation</h1>"
   ]
  },
  {
   "cell_type": "code",
   "execution_count": 131,
   "id": "93c589cd",
   "metadata": {},
   "outputs": [
    {
     "name": "stdout",
     "output_type": "stream",
     "text": [
      "63\n"
     ]
    }
   ],
   "source": [
    "#In numpy you subset like this\n",
    "\n",
    "#code\n",
    "numpy_array=np.array([63,735732,75])\n",
    "print(numpy_array[0])\n"
   ]
  },
  {
   "cell_type": "code",
   "execution_count": 132,
   "id": "91cf6ff4",
   "metadata": {},
   "outputs": [
    {
     "name": "stdout",
     "output_type": "stream",
     "text": [
      "   country    capital   area  population\n",
      "IN   India  New Delhi  3.286      1252.0\n",
      "   country   capital   area  population\n",
      "CH   China   Beijing  9.597      1357.0\n",
      "BR  Brazil  Brasilia  8.516       200.4\n"
     ]
    }
   ],
   "source": [
    "#In pandas it is different\n",
    "\n",
    "#brics_df.loc[\"IN\"] #output pandas series\n",
    "brics_spc_row=brics_df.loc[[\"IN\"]] #Output specifc row automatocally selecting all columns\n",
    "#this is called label base filtering or subsetting\n",
    "brics_spc_rows=brics_df.loc[[\"CH\",\"BR\"]]\n",
    "print(brics_spc_row)\n",
    "print(brics_spc_rows)"
   ]
  },
  {
   "cell_type": "code",
   "execution_count": 133,
   "id": "c9ff8a45",
   "metadata": {},
   "outputs": [
    {
     "name": "stdout",
     "output_type": "stream",
     "text": [
      "      capital\n",
      "BR   Brasilia\n",
      "RU     Moscow\n",
      "IN  New Delhi\n",
      "CH    Beijing\n",
      "SA   Pretoria\n"
     ]
    }
   ],
   "source": [
    "#now to look, if we want to run all rows with a selected column?\n",
    "brics_sel_columns=brics_df.loc[:,[\"capital\"]]\n",
    "print(brics_sel_columns)"
   ]
  },
  {
   "cell_type": "markdown",
   "id": "c08229eb",
   "metadata": {},
   "source": [
    "<h2>Subsetting<h2>\n",
    "<ul>\n",
    "<li>Bracket method []</li>\n",
    "<li>Lable base method .loc[]</li>\n",
    "<li>Position base method .iloc[]</li>\n",
    "</ul>"
   ]
  },
  {
   "cell_type": "code",
   "execution_count": 134,
   "id": "61c3f9a6",
   "metadata": {},
   "outputs": [
    {
     "name": "stdout",
     "output_type": "stream",
     "text": [
      "         country  population\n",
      "BR        Brazil      200.40\n",
      "RU        Russia      143.50\n",
      "IN         India     1252.00\n",
      "CH         China     1357.00\n",
      "SA  South Africa       52.98\n",
      "________________________________\n",
      "   country    capital    area  population\n",
      "RU  Russia     Moscow  17.100       143.5\n",
      "IN   India  New Delhi   3.286      1252.0\n"
     ]
    }
   ],
   "source": [
    "#From bracket method subset specific columns and all rows\n",
    "brics_bracket_meth_spc_col_allrows_subs=brics_df[[\"country\",\"population\"]]\n",
    "print(brics_bracket_meth_spc_col_allrows_subs)\n",
    "print(\"________________________________\")\n",
    "#from bracket method subset specific rows and all columns\n",
    "brics_bracket_meth_spc_rows_allcols_subs=brics_df[1:3]\n",
    "print(brics_bracket_meth_spc_rows_allcols_subs)"
   ]
  },
  {
   "cell_type": "code",
   "execution_count": 135,
   "id": "0e1c6319",
   "metadata": {},
   "outputs": [
    {
     "name": "stdout",
     "output_type": "stream",
     "text": [
      "         country   capital    area  population\n",
      "RU        Russia    Moscow  17.100      143.50\n",
      "SA  South Africa  Pretoria   1.221       52.98\n",
      "______________________\n",
      "         country    capital\n",
      "BR        Brazil   Brasilia\n",
      "RU        Russia     Moscow\n",
      "IN         India  New Delhi\n",
      "CH         China    Beijing\n",
      "SA  South Africa   Pretoria\n",
      "______________________\n",
      "   country    capital\n",
      "RU  Russia     Moscow\n",
      "IN   India  New Delhi\n",
      "CH   China    Beijing\n"
     ]
    }
   ],
   "source": [
    "#from label method access rows\n",
    "brics_row_acc_lab_meth=brics_df.loc[[\"RU\",\"SA\"]]\n",
    "print(brics_row_acc_lab_meth)\n",
    "print(\"______________________\")\n",
    "#from label method access columns\n",
    "brics_col_acc_lab_meth=brics_df.loc[:,[\"country\",\"capital\"]]\n",
    "print(brics_col_acc_lab_meth)\n",
    "print(\"______________________\")\n",
    "#from label method access row and column both\n",
    "brics_row_col_acc_lab_meth=brics_df.loc[[\"RU\",\"IN\",\"CH\"],[\"country\",\"capital\"]]\n",
    "print(brics_row_col_acc_lab_meth)"
   ]
  },
  {
   "cell_type": "code",
   "execution_count": 136,
   "id": "157c647a",
   "metadata": {},
   "outputs": [
    {
     "name": "stdout",
     "output_type": "stream",
     "text": [
      "      capital    area  population\n",
      "BR   Brasilia   8.516      200.40\n",
      "RU     Moscow  17.100      143.50\n",
      "IN  New Delhi   3.286     1252.00\n",
      "CH    Beijing   9.597     1357.00\n",
      "SA   Pretoria   1.221       52.98\n",
      "_____________________________\n",
      "   country   capital   area  population\n",
      "BR  Brazil  Brasilia  8.516       200.4\n",
      "CH   China   Beijing  9.597      1357.0\n",
      "_____________________________\n",
      "     area  population\n",
      "BR  8.516       200.4\n",
      "IN  3.286      1252.0\n"
     ]
    }
   ],
   "source": [
    "#from position based method access column\n",
    "brics_rows_acc_pos_meth=brics_df.iloc[:,[1,2,3]]\n",
    "print(brics_rows_acc_pos_meth)\n",
    "print(\"_____________________________\")\n",
    "#from position based method access rows\n",
    "brics_cols_acc_pos_meth=brics_df.iloc[[0,3],:]\n",
    "print(brics_cols_acc_pos_meth)\n",
    "print(\"_____________________________\")\n",
    "#from position based method access rows and columns\n",
    "brics_rowscols_acc_pos_meth=brics_df.iloc[[0,2],[2,3]]\n",
    "print(brics_rowscols_acc_pos_meth)"
   ]
  },
  {
   "cell_type": "markdown",
   "id": "3df2cbc9",
   "metadata": {},
   "source": [
    "<h1>Numpy and or and not</h1>\n",
    "<ul>\n",
    "    <li>logical_or()</li>\n",
    "    <li>logical_and()</li>\n",
    "    <li>logical_not()</li>\n",
    "</ul>\n",
    " "
   ]
  },
  {
   "cell_type": "markdown",
   "id": "4cb8387b",
   "metadata": {},
   "source": [
    "<h1>Slicing</h1>"
   ]
  },
  {
   "cell_type": "code",
   "execution_count": 137,
   "id": "c28994ef",
   "metadata": {},
   "outputs": [
    {
     "name": "stdout",
     "output_type": "stream",
     "text": [
      "         country    capital   area  population\n",
      "IN         India  New Delhi  3.286     1252.00\n",
      "SA  South Africa   Pretoria  1.221       52.98\n",
      "___________________________________________\n",
      "   country   capital   area  population\n",
      "BR  Brazil  Brasilia  8.516       200.4\n",
      "CH   China   Beijing  9.597      1357.0\n"
     ]
    }
   ],
   "source": [
    "#Slice columns and rows by loc method\n",
    "brics_sliced=brics_df[brics_df.loc[:,\"area\"]<8] #that will filter all rows of a selected(mentioned) column in a dataframe\n",
    "print(brics_sliced)\n",
    "print(\"___________________________________________\")\n",
    "#slice by numpy and, or, and not method\n",
    "brics_and_method_sliced=brics_df.loc[np.logical_and(brics_df[\"area\"]>8, brics_df[\"area\"]<10)]\n",
    "\n",
    "#brics_and_method_sliced = brics_df[np.logical_and(brics_df[\"area\"] > 8, brics_df[\"area\"] < 10)]\n",
    "\n",
    "print(brics_and_method_sliced)"
   ]
  },
  {
   "cell_type": "markdown",
   "id": "0e6a2c0e",
   "metadata": {},
   "source": [
    "<h1>Lists</h1>\n",
    "<ul>\n",
    "    <li>Creation Techniques</li>\n",
    "    <li>Subsetting</li>\n",
    "    <li>slicing</li>\n",
    "    <li>manipulation</li>\n",
    "    <ul>\n",
    "        <li>adding</li>\n",
    "        <li>deleting</li>\n",
    "        <li>replacing</li>\n",
    "    </ul>\n",
    "    </ul>"
   ]
  },
  {
   "cell_type": "code",
   "execution_count": 138,
   "id": "14c36d3b",
   "metadata": {},
   "outputs": [
    {
     "name": "stdout",
     "output_type": "stream",
     "text": [
      "[12, 'ghq', 90.12, True, 89, 55]\n",
      "___________________\n",
      "[12, 'ghq', 90.12, True, 89, 55]\n",
      "___________________\n",
      "[12, 'ghq', 90.12, True, 89, 55]\n",
      "___________________\n",
      "[12, 'ghq', 90.12, True, 89, 55]\n",
      "___________________\n",
      "[[12, 'hji', 78.0], ['jdhfwue', 0.9, 'oi']]\n"
     ]
    }
   ],
   "source": [
    "#creation\n",
    "tech01_list001=[12,\"ghq\",90.12,True,89,55]\n",
    "tech02_list002=tech01_list001[:]\n",
    "tech03_list003=list(tech02_list002)\n",
    "tech04_list004=tech03_list003.copy()\n",
    "list2d_1 = [[12, \"hji\", 78.0],[\"jdhfwue\", 0.9, \"oi\"]]\n",
    "\n",
    "print(tech01_list001)\n",
    "print(\"___________________\")\n",
    "print(tech02_list002)\n",
    "print(\"___________________\")\n",
    "print(tech03_list003)\n",
    "print(\"___________________\")\n",
    "print(tech04_list004)\n",
    "print(\"___________________\")\n",
    "print(list2d_1)"
   ]
  },
  {
   "cell_type": "code",
   "execution_count": 139,
   "id": "dce6e1bf",
   "metadata": {},
   "outputs": [
    {
     "name": "stdout",
     "output_type": "stream",
     "text": [
      "True\n",
      "['ghq', 90.12, True]\n",
      "[12, 'hji', 78.0]\n",
      "12\n",
      "3\n"
     ]
    }
   ],
   "source": [
    "print(tech01_list001[3])\n",
    "print(tech01_list001[1:4])\n",
    "print(list2d_1[0]) #0th row printed out\n",
    "print(list2d_1[0][0]) #specific point on 2d list\n",
    "\n",
    "#using functons and methods \n",
    "print(tech01_list001.index(True)) #it returns the index of mentioned element in a list"
   ]
  },
  {
   "cell_type": "code",
   "execution_count": 140,
   "id": "7f142ca4",
   "metadata": {},
   "outputs": [
    {
     "name": "stdout",
     "output_type": "stream",
     "text": [
      "[2, 4, 6, 8, 0]\n",
      "[2, 3, 4, 5, 6, 7, 8, 9, 0, 10, 11, 23]\n"
     ]
    }
   ],
   "source": [
    "long_list=[1,2,3,4,5,6,7,8,9,0,10,11,23,45,67,88,754,643,2,343]\n",
    "print(long_list[1:10:2]) #long_list[start:stop:step]\n",
    "print(long_list[1:-7])"
   ]
  },
  {
   "cell_type": "code",
   "execution_count": 141,
   "id": "5fecac35",
   "metadata": {},
   "outputs": [
    {
     "name": "stdout",
     "output_type": "stream",
     "text": [
      "____________________\n",
      "____________________\n",
      "_______________________________\n",
      "['hamza', 'nunnu', 'moiz bhai', 'basha', 'huzaifa', 'owais', 'arham commecs', 'osama', 'moiz']\n",
      "_______________\n",
      "['hamza', 'nunnu', 'moiz bhai', 'basha', 'huzaifa', 'owais', 'arham commecs', 'awais', 'osama', 'moiz']\n"
     ]
    }
   ],
   "source": [
    "#adding\n",
    "sap_list=[\"hamza\",\"nunnu\",\"moiz bhai\",\"basha\",\"huzaifa\",\"owais\",\"arham commecs\",\"osama\"]\n",
    "sap2_list=[\"ali\",\"fahud\",\"awais\"]\n",
    "add_list1=long_list+[\"Hamza\"]\n",
    "#print(add_list1)\n",
    "print(\"____________________\")\n",
    "add2_list1=add_list1+add_list1\n",
    "#print(add2_list1)\n",
    "print(\"____________________\")\n",
    "#ext_list1=add_list1*3\n",
    "#print(ext_list1) #list elements increased by 3 times\n",
    "print(\"_______________________________\")\n",
    "#some function and methods\n",
    "\n",
    "#long_list.extend(long_list) #.extend() can only take inputs of an iterable(a variable that can be used in a loop)\n",
    "#print(long_list)\n",
    "sap_list.append(\"moiz\") #append an element in the last of e list\n",
    "print(sap_list)\n",
    "print(\"_______________\")\n",
    "sap_list.insert(7,\"awais\") #insert an element at an specified index\n",
    "print(sap_list)"
   ]
  },
  {
   "cell_type": "code",
   "execution_count": 142,
   "id": "f4365710",
   "metadata": {},
   "outputs": [
    {
     "name": "stdout",
     "output_type": "stream",
     "text": [
      "_________________\n",
      "________________\n",
      "['hamza', 'nunnu', 'moiz bhai', 'basha', 'huzaifa', 'owais', 'arham commecs', 'awais', 'osama']\n",
      "________________\n",
      "[]\n"
     ]
    }
   ],
   "source": [
    "#deletion:\n",
    "del long_list[0] #only a specified index\n",
    "#print(long_list)\n",
    "print(\"_________________\")\n",
    "long_list.remove(0) #repeating 0 willl be deleted\n",
    "#print(long_list)\n",
    "print(\"________________\")\n",
    "sap_list.pop(-1)\n",
    "print(sap_list)\n",
    "print(\"________________\")\n",
    "long_list.clear()\n",
    "print(long_list)"
   ]
  },
  {
   "cell_type": "code",
   "execution_count": 143,
   "id": "48501c22",
   "metadata": {},
   "outputs": [
    {
     "name": "stdout",
     "output_type": "stream",
     "text": [
      "['hamza', 'nunnu', 'moiz bhai', 'basha', 'huzaifa', 'owais', 'arham commecs', 'awais', 'ahmerr', 'ali', 'fahud', 'awais']\n"
     ]
    }
   ],
   "source": [
    "#replace\n",
    "sap_list[-1]=\"ahmerr\"\n",
    "sap_list.extend(sap2_list)\n",
    "print(sap_list)"
   ]
  },
  {
   "cell_type": "markdown",
   "id": "e0efb6c5",
   "metadata": {},
   "source": [
    "<h1>Tuple</h1>\n",
    "<ul>\n",
    "    <li>creation: a=(1,2,3)</li>\n",
    "    <li>when to use?In months calender</li>\n",
    "    <li>tupple elements cannot be change</li>\n",
    "    </ul>"
   ]
  },
  {
   "cell_type": "markdown",
   "id": "aebd3490",
   "metadata": {},
   "source": [
    "<h1>SETS</h1>\n",
    "<ul>\n",
    "    <li>each element is unique</li>\n",
    "    <li>it is not ordered</li>\n",
    "    <li>it is mutable</li>\n",
    "    <li>creation:\n",
    "        x=set(1,2,3)\n",
    "        or\n",
    "        x=set()\n",
    "        a=a.add(1,2,3)</li>\n",
    "    </ul>\n",
    "        "
   ]
  },
  {
   "cell_type": "markdown",
   "id": "6a435f6c",
   "metadata": {},
   "source": [
    "<h1>Dictionary</h1>\n",
    "<ul>\n",
    "    <li>creation: a={\"key\":\"value\",key:value}</li>\n",
    "    <li>subsetting, indexing, dynamic dictionary, nested dictionary</li>\n",
    "    </ul>\n",
    "    "
   ]
  },
  {
   "cell_type": "code",
   "execution_count": 144,
   "id": "6307392b",
   "metadata": {},
   "outputs": [],
   "source": [
    "d01={1:\"Hamza\",2:\"Shariq\",3:\"Fouz\",4:\"Arhum\",5:\"Karam\",6:\"Ayan\",7:\"Zeeshan\",8:\"Zaid\",9:\"Muaaz\",\n",
    "    10:\"Moaz\",11:\"Owais\"}\n",
    "d02={\"ibtehaj\":4,\"owais\":7,\"hamza\":[2,5,57,30]}"
   ]
  },
  {
   "cell_type": "code",
   "execution_count": 145,
   "id": "f583ffa1",
   "metadata": {},
   "outputs": [
    {
     "name": "stdout",
     "output_type": "stream",
     "text": [
      "Owais\n",
      "{7: 'Zeeshan', 8: 'Zaid', 9: 'Muaaz', 10: 'Moaz'}\n",
      "{3: 'Fouz', 4: 'Arhum', 5: 'Karam', 6: 'Ayan'}\n"
     ]
    }
   ],
   "source": [
    "#subsetting\n",
    "print(d01[11]) #basically it is not called by an index but by key so that is how value appears\n",
    "#slicing\n",
    "keys_list=list(d01.keys()) #print out keys of d01\n",
    "sliced_keys=keys_list[6:10]\n",
    "sliced_dict={key:d01[key] for key in sliced_keys}\n",
    "print(sliced_dict)\n",
    "\n",
    "#another method:\n",
    "import itertools\n",
    "sliced_dict_by_method = dict(itertools.islice(d01.items(), 2,6))\n",
    "print(sliced_dict_by_method)"
   ]
  },
  {
   "cell_type": "code",
   "execution_count": 146,
   "id": "518bc247",
   "metadata": {},
   "outputs": [
    {
     "name": "stdout",
     "output_type": "stream",
     "text": [
      "{'animal': ['Dog', 'cat'], 'answer': [42, 23]}\n"
     ]
    }
   ],
   "source": [
    "#dynamic dictionary\n",
    "d03={}\n",
    "d03[\"animal\"]=[\"Dog\",\"cat\"]\n",
    "d03[\"answer\"]=[42,23]\n",
    "print(d03)\n",
    "#dictionary created like this"
   ]
  },
  {
   "cell_type": "markdown",
   "id": "c8a4acfe",
   "metadata": {},
   "source": [
    "<h1>NOTE</h1>\n",
    "<ul>\n",
    "    <li>In bracket it usually takes all rows and specific columns so use it when <b>bool filtering applied</b></li>\n",
    "</ul>"
   ]
  },
  {
   "cell_type": "markdown",
   "id": "cf6da375",
   "metadata": {},
   "source": [
    "<h1>Loops</h1>\n",
    "<ul>\n",
    "    <li>for loop</li>\n",
    "        <p></p>\n",
    "    <li>while loop</li>\n",
    "    </ul>\n",
    "        <ul>\n",
    "     "
   ]
  },
  {
   "cell_type": "code",
   "execution_count": 147,
   "id": "09349ace",
   "metadata": {},
   "outputs": [
    {
     "name": "stdout",
     "output_type": "stream",
     "text": [
      "0\n",
      "1\n",
      "2\n",
      "3\n",
      "4\n",
      "5\n"
     ]
    }
   ],
   "source": [
    "for x in range(0,6):\n",
    "    print(x)"
   ]
  },
  {
   "cell_type": "code",
   "execution_count": 148,
   "id": "74353aee",
   "metadata": {},
   "outputs": [
    {
     "name": "stdout",
     "output_type": "stream",
     "text": [
      "12\n",
      "ghq\n",
      "90.12\n",
      "True\n",
      "89\n",
      "55\n"
     ]
    }
   ],
   "source": [
    "#loops on a list\n",
    "list100=[12,\"ghq\",90.12,True,89,55]\n",
    "for itr_var in list100:\n",
    "    print(itr_var)\n",
    "    "
   ]
  },
  {
   "cell_type": "code",
   "execution_count": 149,
   "id": "05b17af0",
   "metadata": {},
   "outputs": [
    {
     "name": "stdout",
     "output_type": "stream",
     "text": [
      "index:0,12\n",
      "index:1,ghq\n",
      "index:2,90.12\n",
      "index:3,True\n",
      "index:4,89\n",
      "index:5,55\n"
     ]
    }
   ],
   "source": [
    "#loops with enumerate function\n",
    "for ind,val in enumerate(list100):\n",
    "    print(\"index:\"+str(ind)+\",\"+str(val))\n",
    "#enumerate function index aur values ko nikaal leta hai"
   ]
  },
  {
   "cell_type": "code",
   "execution_count": 150,
   "id": "91595365",
   "metadata": {},
   "outputs": [
    {
     "name": "stdout",
     "output_type": "stream",
     "text": [
      "key:1, value:Hamza\n",
      "key:2, value:Shariq\n",
      "key:3, value:Fouz\n",
      "key:4, value:Arhum\n",
      "key:5, value:Karam\n",
      "key:6, value:Ayan\n",
      "key:7, value:Zeeshan\n",
      "key:8, value:Zaid\n",
      "key:9, value:Muaaz\n",
      "key:10, value:Moaz\n",
      "key:11, value:Owais\n"
     ]
    }
   ],
   "source": [
    "#loops in a dictionary\n",
    "for key,val in d01.items():\n",
    "    print(\"key:\"+str(key)+\", value:\"+str(val))"
   ]
  },
  {
   "cell_type": "code",
   "execution_count": 151,
   "id": "ee922a00",
   "metadata": {},
   "outputs": [
    {
     "name": "stdout",
     "output_type": "stream",
     "text": [
      "177\n",
      "178\n",
      "190\n",
      "156\n",
      "172\n",
      "170\n"
     ]
    }
   ],
   "source": [
    "#loops in numpy array\n",
    "np_height=np.array([177,178,190,156,172,170])\n",
    "for x in np_height:\n",
    "    print(x)"
   ]
  },
  {
   "cell_type": "code",
   "execution_count": 152,
   "id": "fba8e9f9",
   "metadata": {},
   "outputs": [
    {
     "data": {
      "text/html": [
       "<div>\n",
       "<style scoped>\n",
       "    .dataframe tbody tr th:only-of-type {\n",
       "        vertical-align: middle;\n",
       "    }\n",
       "\n",
       "    .dataframe tbody tr th {\n",
       "        vertical-align: top;\n",
       "    }\n",
       "\n",
       "    .dataframe thead th {\n",
       "        text-align: right;\n",
       "    }\n",
       "</style>\n",
       "<table border=\"1\" class=\"dataframe\">\n",
       "  <thead>\n",
       "    <tr style=\"text-align: right;\">\n",
       "      <th></th>\n",
       "      <th>country</th>\n",
       "      <th>capital</th>\n",
       "      <th>area</th>\n",
       "      <th>population</th>\n",
       "    </tr>\n",
       "  </thead>\n",
       "  <tbody>\n",
       "    <tr>\n",
       "      <th>BR</th>\n",
       "      <td>Brazil</td>\n",
       "      <td>Brasilia</td>\n",
       "      <td>8.516</td>\n",
       "      <td>200.40</td>\n",
       "    </tr>\n",
       "    <tr>\n",
       "      <th>RU</th>\n",
       "      <td>Russia</td>\n",
       "      <td>Moscow</td>\n",
       "      <td>17.100</td>\n",
       "      <td>143.50</td>\n",
       "    </tr>\n",
       "    <tr>\n",
       "      <th>IN</th>\n",
       "      <td>India</td>\n",
       "      <td>New Delhi</td>\n",
       "      <td>3.286</td>\n",
       "      <td>1252.00</td>\n",
       "    </tr>\n",
       "    <tr>\n",
       "      <th>CH</th>\n",
       "      <td>China</td>\n",
       "      <td>Beijing</td>\n",
       "      <td>9.597</td>\n",
       "      <td>1357.00</td>\n",
       "    </tr>\n",
       "    <tr>\n",
       "      <th>SA</th>\n",
       "      <td>South Africa</td>\n",
       "      <td>Pretoria</td>\n",
       "      <td>1.221</td>\n",
       "      <td>52.98</td>\n",
       "    </tr>\n",
       "  </tbody>\n",
       "</table>\n",
       "</div>"
      ],
      "text/plain": [
       "         country    capital    area  population\n",
       "BR        Brazil   Brasilia   8.516      200.40\n",
       "RU        Russia     Moscow  17.100      143.50\n",
       "IN         India  New Delhi   3.286     1252.00\n",
       "CH         China    Beijing   9.597     1357.00\n",
       "SA  South Africa   Pretoria   1.221       52.98"
      ]
     },
     "execution_count": 152,
     "metadata": {},
     "output_type": "execute_result"
    }
   ],
   "source": [
    "brics_df"
   ]
  },
  {
   "cell_type": "code",
   "execution_count": 153,
   "id": "8b96cba5",
   "metadata": {},
   "outputs": [
    {
     "name": "stdout",
     "output_type": "stream",
     "text": [
      "BR\n",
      "____\n",
      "country         Brazil\n",
      "capital       Brasilia\n",
      "area             8.516\n",
      "population       200.4\n",
      "Name: BR, dtype: object\n",
      "RU\n",
      "____\n",
      "country       Russia\n",
      "capital       Moscow\n",
      "area            17.1\n",
      "population     143.5\n",
      "Name: RU, dtype: object\n",
      "IN\n",
      "____\n",
      "country           India\n",
      "capital       New Delhi\n",
      "area              3.286\n",
      "population       1252.0\n",
      "Name: IN, dtype: object\n",
      "CH\n",
      "____\n",
      "country         China\n",
      "capital       Beijing\n",
      "area            9.597\n",
      "population     1357.0\n",
      "Name: CH, dtype: object\n",
      "SA\n",
      "____\n",
      "country       South Africa\n",
      "capital           Pretoria\n",
      "area                 1.221\n",
      "population           52.98\n",
      "Name: SA, dtype: object\n"
     ]
    }
   ],
   "source": [
    "#loops in pandas dataframe\n",
    "for row,col in brics_df.iterrows():\n",
    "    print(row)\n",
    "    print(\"____\")\n",
    "    print(col)"
   ]
  },
  {
   "cell_type": "code",
   "execution_count": 154,
   "id": "0662e1e1",
   "metadata": {},
   "outputs": [
    {
     "name": "stdout",
     "output_type": "stream",
     "text": [
      "BR: Brasilia\n",
      "RU: Moscow\n",
      "IN: New Delhi\n",
      "CH: Beijing\n",
      "SA: Pretoria\n"
     ]
    }
   ],
   "source": [
    "#specific columns ke elements run houn\n",
    "for label, rows in brics_df.iterrows():\n",
    "    print(label+\": \"+rows[\"capital\"])"
   ]
  },
  {
   "cell_type": "code",
   "execution_count": 155,
   "id": "4e22f076",
   "metadata": {},
   "outputs": [
    {
     "name": "stdout",
     "output_type": "stream",
     "text": [
      "                  country    capital    area  population\n",
      "BR                 Brazil   Brasilia   8.516      200.40\n",
      "RU                 Russia     Moscow  17.100      143.50\n",
      "IN                  India  New Delhi   3.286     1252.00\n",
      "CH                  China    Beijing   9.597     1357.00\n",
      "SA           South Africa   Pretoria   1.221       52.98\n",
      "name_length             5          5   5.000        5.00\n",
      "_______________\n",
      "         country    capital    area  population\n",
      "BR        Brazil   Brasilia   8.516      200.40\n",
      "RU        Russia     Moscow  17.100      143.50\n",
      "IN         India  New Delhi   3.286     1252.00\n",
      "CH         China    Beijing   9.597     1357.00\n",
      "SA  South Africa   Pretoria   1.221       52.98\n",
      "___________________\n",
      "         country    capital    area  population  capital_name_length\n",
      "BR        Brazil   Brasilia   8.516      200.40                    8\n",
      "RU        Russia     Moscow  17.100      143.50                    6\n",
      "IN         India  New Delhi   3.286     1252.00                    9\n",
      "CH         China    Beijing   9.597     1357.00                    7\n",
      "SA  South Africa   Pretoria   1.221       52.98                    8\n"
     ]
    }
   ],
   "source": [
    "#feature engineering \n",
    "brics_df.loc['name_length']=len(brics_df[\"country\"])\n",
    "print(brics_df)\n",
    "print(\"_______________\")\n",
    "\n",
    "#another better way of creating \n",
    "brics_df=brics_df.drop(\"name_length\")\n",
    "print(brics_df)\n",
    "print(\"___________________\")\n",
    "\n",
    "brics_df[\"capital_name_length\"]=brics_df[\"capital\"].apply(len) #to apply len, remember the specfied column does not contain any numeric variable\n",
    "print(brics_df)\n"
   ]
  },
  {
   "cell_type": "markdown",
   "id": "321fb28b",
   "metadata": {},
   "source": [
    "<h1>Type Conversion</h1>\n",
    "<h2>Basic Data Type</h2>\n",
    "<ul>\n",
    "    <li>int to str,float,bool</li>\n",
    "    <li>float to int,str</li>\n",
    "    <li>bool to str, int</li>\n",
    "    <li>str to int,float,str</li>\n",
    "    </ul>\n",
    "    <h2>Adavanced Data Types</h2>\n",
    "    <ul>\n",
    "    <li>list to tuple, set</li>\n",
    "    <li>tuple to set</li>\n",
    "    <li>set to list, tuple</li>\n",
    "    <li>dictionary to list,tuple,set</li>\n",
    "    "
   ]
  }
 ],
 "metadata": {
  "body": {
   "background-color": "black",
   "color": "white"
  },
  "celltoolbar": "Edit Metadata",
  "kernelspec": {
   "display_name": "Python 3 (ipykernel)",
   "language": "python",
   "name": "python3"
  },
  "language_info": {
   "codemirror_mode": {
    "name": "ipython",
    "version": 3
   },
   "file_extension": ".py",
   "mimetype": "text/x-python",
   "name": "python",
   "nbconvert_exporter": "python",
   "pygments_lexer": "ipython3",
   "version": "3.9.13"
  }
 },
 "nbformat": 4,
 "nbformat_minor": 5
}
