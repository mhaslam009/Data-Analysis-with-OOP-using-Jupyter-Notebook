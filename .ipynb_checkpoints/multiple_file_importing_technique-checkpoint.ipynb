{
 "cells": [
  {
   "cell_type": "markdown",
   "id": "b175d5a2",
   "metadata": {},
   "source": [
    "<h1>Multiple files import</h1>"
   ]
  },
  {
   "cell_type": "markdown",
   "id": "9b670ff9",
   "metadata": {},
   "source": [
    "<h1>1)Import load all files in objects</h1>"
   ]
  },
  {
   "cell_type": "code",
   "execution_count": 4,
   "id": "e4175fe3",
   "metadata": {},
   "outputs": [],
   "source": [
    "import pandas as pd\n",
    "import glob\n",
    "import pickle\n",
    "\n",
    "directory_path = r'E:\\CAREER_DATA\\data_files\\data_visualization\\*'\n",
    "\n",
    "# Get a list of all files in the directory\n",
    "file_list = glob.glob(directory_path)\n",
    "\n",
    "# Create empty dictionaries to store DataFrames for CSV, TXT, and pickle files\n",
    "csv_dataframes = {}\n",
    "txt_dataframes = {}\n",
    "pickle_dataframes = {}\n",
    "\n",
    "# Loop through each file and import its data into Pandas based on the file extension\n",
    "for file in file_list:\n",
    "    if file.endswith('.csv'):\n",
    "        df = pd.read_csv(file)\n",
    "        \n",
    "        csv_dataframes[file] = df\n",
    "        \n",
    "    elif file.endswith('.txt'):\n",
    "        df = pd.read_csv(file, delimiter='\\t')  # Assuming tab-separated text files. You can change the delimiter if needed.\n",
    "        txt_dataframes[file] = df\n",
    "    elif file.endswith('.p'):\n",
    "        with open(file, 'rb') as f:\n",
    "            df = pickle.load(f)\n",
    "            pickle_dataframes[file] = df\n",
    "\n",
    "# Now, csv_dataframes is a dictionary where keys are CSV file names and values are the corresponding DataFrames.\n",
    "# txt_dataframes is a dictionary where keys are TXT file names and values are the corresponding DataFrames.\n",
    "# pickle_dataframes is a dictionary where keys are pickle file names and values are the corresponding DataFrames.\n",
    "# You can access them using the file names as keys.\n",
    "\n"
   ]
  },
  {
   "cell_type": "markdown",
   "id": "1e75c96e",
   "metadata": {},
   "source": [
    "<h1>2)To access an specific file from loaded objects which contain files</h1>"
   ]
  },
  {
   "cell_type": "code",
   "execution_count": 5,
   "id": "f794cf82",
   "metadata": {},
   "outputs": [
    {
     "name": "stdout",
     "output_type": "stream",
     "text": [
      "CSV file 'E:\\CAREER_DATA\\data_files\\data_visualization\\example.csv' not found.\n",
      "TXT file 'E:\\CAREER_DATA\\data_files\\data_visualization\\example.txt' not found.\n",
      "Pickle file 'E:\\CAREER_DATA\\data_files\\data_visualization\\example.p' not found.\n"
     ]
    }
   ],
   "source": [
    "\n",
    "\n",
    "# Assuming you have already executed the code and have the csv_dataframes, txt_dataframes, and pickle_dataframes dictionaries\n",
    "\n",
    "# Accessing a specific CSV file DataFrame\n",
    "csv_file_name = r'E:\\CAREER_DATA\\data_files\\data_visualization\\example.csv'  # Replace with the full path to the CSV file you want to access\n",
    "if csv_file_name in csv_dataframes:\n",
    "    df_csv = csv_dataframes[csv_file_name]\n",
    "    # Now you can work with df_csv, which contains the DataFrame of the specified CSV file\n",
    "else:\n",
    "    print(f\"CSV file '{csv_file_name}' not found.\")\n",
    "\n",
    "# Accessing a specific TXT file DataFrame\n",
    "txt_file_name = r'E:\\CAREER_DATA\\data_files\\data_visualization\\example.txt'  # Replace with the full path to the TXT file you want to access\n",
    "if txt_file_name in txt_dataframes:\n",
    "    df_txt = txt_dataframes[txt_file_name]\n",
    "    # Now you can work with df_txt, which contains the DataFrame of the specified TXT file\n",
    "else:\n",
    "    print(f\"TXT file '{txt_file_name}' not found.\")\n",
    "\n",
    "# Accessing a specific pickle file DataFrame\n",
    "pickle_file_name = r'E:\\CAREER_DATA\\data_files\\data_visualization\\example.p'  # Replace with the full path to the pickle file you want to access\n",
    "if pickle_file_name in pickle_dataframes:\n",
    "    df_pickle = pickle_dataframes[pickle_file_name]\n",
    "    # Now you can work with df_pickle, which contains the DataFrame of the specified pickle file\n",
    "else:\n",
    "    print(f\"Pickle file '{pickle_file_name}' not found.\")\n",
    "    \n",
    "    \n"
   ]
  },
  {
   "cell_type": "markdown",
   "id": "af6a8af5",
   "metadata": {},
   "source": [
    "<h1>3)To access multiple files from loaded objects</h1>"
   ]
  },
  {
   "cell_type": "code",
   "execution_count": 3,
   "id": "094f1375",
   "metadata": {},
   "outputs": [
    {
     "name": "stdout",
     "output_type": "stream",
     "text": [
      "CSV file 'E:\\CAREER_DATA\\data_files\\data_visualization\\example1.csv' not found.\n",
      "CSV file 'E:\\CAREER_DATA\\data_files\\data_visualization\\example2.csv' not found.\n",
      "TXT file 'E:\\CAREER_DATA\\data_files\\data_visualization\\example1.txt' not found.\n",
      "TXT file 'E:\\CAREER_DATA\\data_files\\data_visualization\\example2.txt' not found.\n",
      "Pickle file 'E:\\CAREER_DATA\\data_files\\data_visualization\\example1.p' not found.\n",
      "Pickle file 'E:\\CAREER_DATA\\data_files\\data_visualization\\example2.p' not found.\n"
     ]
    }
   ],
   "source": [
    "#from above code if we wanted to import multiple files\n",
    "\n",
    "\n",
    "# Assuming you have already executed the code and have the csv_dataframes, txt_dataframes, and pickle_dataframes dictionaries\n",
    "\n",
    "# Accessing multiple CSV files DataFrames\n",
    "csv_files_to_access = [r'E:\\CAREER_DATA\\data_files\\data_visualization\\example1.csv',\n",
    "                       r'E:\\CAREER_DATA\\data_files\\data_visualization\\example2.csv']\n",
    "csv_dfs = []\n",
    "for csv_file in csv_files_to_access:\n",
    "    if csv_file in csv_dataframes:\n",
    "        df_csv = csv_dataframes[csv_file]\n",
    "        csv_dfs.append(df_csv)\n",
    "    else:\n",
    "        print(f\"CSV file '{csv_file}' not found.\")\n",
    "\n",
    "# Accessing multiple TXT files DataFrames\n",
    "txt_files_to_access = [r'E:\\CAREER_DATA\\data_files\\data_visualization\\example1.txt',\n",
    "                       r'E:\\CAREER_DATA\\data_files\\data_visualization\\example2.txt']\n",
    "txt_dfs = []\n",
    "for txt_file in txt_files_to_access:\n",
    "    if txt_file in txt_dataframes:\n",
    "        df_txt = txt_dataframes[txt_file]\n",
    "        txt_dfs.append(df_txt)\n",
    "    else:\n",
    "        print(f\"TXT file '{txt_file}' not found.\")\n",
    "\n",
    "# Accessing multiple pickle files DataFrames\n",
    "pickle_files_to_access = [r'E:\\CAREER_DATA\\data_files\\data_visualization\\example1.p',\n",
    "                          r'E:\\CAREER_DATA\\data_files\\data_visualization\\example2.p']\n",
    "pickle_dfs = []\n",
    "for pickle_file in pickle_files_to_access:\n",
    "    if pickle_file in pickle_dataframes:\n",
    "        df_pickle = pickle_dataframes[pickle_file]\n",
    "        pickle_dfs.append(df_pickle)\n",
    "    else:\n",
    "        print(f\"Pickle file '{pickle_file}' not found.\")\n",
    "\n"
   ]
  }
 ],
 "metadata": {
  "kernelspec": {
   "display_name": "Python 3 (ipykernel)",
   "language": "python",
   "name": "python3"
  },
  "language_info": {
   "codemirror_mode": {
    "name": "ipython",
    "version": 3
   },
   "file_extension": ".py",
   "mimetype": "text/x-python",
   "name": "python",
   "nbconvert_exporter": "python",
   "pygments_lexer": "ipython3",
   "version": "3.9.13"
  }
 },
 "nbformat": 4,
 "nbformat_minor": 5
}
