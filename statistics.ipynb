{
 "cells": [
  {
   "cell_type": "markdown",
   "id": "8bbf34d4",
   "metadata": {},
   "source": [
    "<h1>STATS</h1>"
   ]
  },
  {
   "cell_type": "markdown",
   "id": "190b74ba",
   "metadata": {},
   "source": [
    "<h1>Measure Of Centre</h1>\n",
    "<p><b>Examine how much data is in centre</b></p>\n",
    "<ul>\n",
    "    <li>Mean:Average Value</li>\n",
    "    <li>Median:Middle Value</li>\n",
    "    <li>Mode:Most repeating Value</li>\n",
    "    </ul>\n",
    "<h2> Key Takeaways:</h2>\n",
    "<p>Type of data will determine what kind of statu=istics summary be applied on it. Mean is atype of summary statistics<br>\n",
    "Mean is sensitive to outliers, a data with higher degree of outliers its better to use median.<br>\n",
    "</p>\n",
    "<ul>\n",
    "    <li>Right Skewed: Mean>Median</li>\n",
    "    <li>Left Skewed: Median>Mean</li>"
   ]
  },
  {
   "cell_type": "code",
   "execution_count": 1,
   "id": "7a8dd4b3",
   "metadata": {},
   "outputs": [
    {
     "data": {
      "text/html": [
       "<div>\n",
       "<style scoped>\n",
       "    .dataframe tbody tr th:only-of-type {\n",
       "        vertical-align: middle;\n",
       "    }\n",
       "\n",
       "    .dataframe tbody tr th {\n",
       "        vertical-align: top;\n",
       "    }\n",
       "\n",
       "    .dataframe thead th {\n",
       "        text-align: right;\n",
       "    }\n",
       "</style>\n",
       "<table border=\"1\" class=\"dataframe\">\n",
       "  <thead>\n",
       "    <tr style=\"text-align: right;\">\n",
       "      <th></th>\n",
       "      <th>store</th>\n",
       "      <th>type</th>\n",
       "      <th>department</th>\n",
       "      <th>date</th>\n",
       "      <th>weekly_sales</th>\n",
       "      <th>is_holiday</th>\n",
       "      <th>temperature_c</th>\n",
       "      <th>fuel_price_usd_per_l</th>\n",
       "      <th>unemployment</th>\n",
       "    </tr>\n",
       "  </thead>\n",
       "  <tbody>\n",
       "    <tr>\n",
       "      <th>0</th>\n",
       "      <td>1</td>\n",
       "      <td>A</td>\n",
       "      <td>1</td>\n",
       "      <td>2010-02-05</td>\n",
       "      <td>24924.50</td>\n",
       "      <td>False</td>\n",
       "      <td>5.727778</td>\n",
       "      <td>0.679451</td>\n",
       "      <td>8.106</td>\n",
       "    </tr>\n",
       "    <tr>\n",
       "      <th>1</th>\n",
       "      <td>1</td>\n",
       "      <td>A</td>\n",
       "      <td>1</td>\n",
       "      <td>2010-03-05</td>\n",
       "      <td>21827.90</td>\n",
       "      <td>False</td>\n",
       "      <td>8.055556</td>\n",
       "      <td>0.693452</td>\n",
       "      <td>8.106</td>\n",
       "    </tr>\n",
       "    <tr>\n",
       "      <th>2</th>\n",
       "      <td>1</td>\n",
       "      <td>A</td>\n",
       "      <td>1</td>\n",
       "      <td>2010-04-02</td>\n",
       "      <td>57258.43</td>\n",
       "      <td>False</td>\n",
       "      <td>16.816667</td>\n",
       "      <td>0.718284</td>\n",
       "      <td>7.808</td>\n",
       "    </tr>\n",
       "    <tr>\n",
       "      <th>3</th>\n",
       "      <td>1</td>\n",
       "      <td>A</td>\n",
       "      <td>1</td>\n",
       "      <td>2010-05-07</td>\n",
       "      <td>17413.94</td>\n",
       "      <td>False</td>\n",
       "      <td>22.527778</td>\n",
       "      <td>0.748928</td>\n",
       "      <td>7.808</td>\n",
       "    </tr>\n",
       "    <tr>\n",
       "      <th>4</th>\n",
       "      <td>1</td>\n",
       "      <td>A</td>\n",
       "      <td>1</td>\n",
       "      <td>2010-06-04</td>\n",
       "      <td>17558.09</td>\n",
       "      <td>False</td>\n",
       "      <td>27.050000</td>\n",
       "      <td>0.714586</td>\n",
       "      <td>7.808</td>\n",
       "    </tr>\n",
       "    <tr>\n",
       "      <th>...</th>\n",
       "      <td>...</td>\n",
       "      <td>...</td>\n",
       "      <td>...</td>\n",
       "      <td>...</td>\n",
       "      <td>...</td>\n",
       "      <td>...</td>\n",
       "      <td>...</td>\n",
       "      <td>...</td>\n",
       "      <td>...</td>\n",
       "    </tr>\n",
       "    <tr>\n",
       "      <th>10769</th>\n",
       "      <td>39</td>\n",
       "      <td>A</td>\n",
       "      <td>99</td>\n",
       "      <td>2011-12-09</td>\n",
       "      <td>895.00</td>\n",
       "      <td>False</td>\n",
       "      <td>9.644444</td>\n",
       "      <td>0.834256</td>\n",
       "      <td>7.716</td>\n",
       "    </tr>\n",
       "    <tr>\n",
       "      <th>10770</th>\n",
       "      <td>39</td>\n",
       "      <td>A</td>\n",
       "      <td>99</td>\n",
       "      <td>2012-02-03</td>\n",
       "      <td>350.00</td>\n",
       "      <td>False</td>\n",
       "      <td>15.938889</td>\n",
       "      <td>0.887619</td>\n",
       "      <td>7.244</td>\n",
       "    </tr>\n",
       "    <tr>\n",
       "      <th>10771</th>\n",
       "      <td>39</td>\n",
       "      <td>A</td>\n",
       "      <td>99</td>\n",
       "      <td>2012-06-08</td>\n",
       "      <td>450.00</td>\n",
       "      <td>False</td>\n",
       "      <td>27.288889</td>\n",
       "      <td>0.911922</td>\n",
       "      <td>6.989</td>\n",
       "    </tr>\n",
       "    <tr>\n",
       "      <th>10772</th>\n",
       "      <td>39</td>\n",
       "      <td>A</td>\n",
       "      <td>99</td>\n",
       "      <td>2012-07-13</td>\n",
       "      <td>0.06</td>\n",
       "      <td>False</td>\n",
       "      <td>25.644444</td>\n",
       "      <td>0.860145</td>\n",
       "      <td>6.623</td>\n",
       "    </tr>\n",
       "    <tr>\n",
       "      <th>10773</th>\n",
       "      <td>39</td>\n",
       "      <td>A</td>\n",
       "      <td>99</td>\n",
       "      <td>2012-10-05</td>\n",
       "      <td>915.00</td>\n",
       "      <td>False</td>\n",
       "      <td>22.250000</td>\n",
       "      <td>0.955511</td>\n",
       "      <td>6.228</td>\n",
       "    </tr>\n",
       "  </tbody>\n",
       "</table>\n",
       "<p>10774 rows × 9 columns</p>\n",
       "</div>"
      ],
      "text/plain": [
       "       store type  department        date  weekly_sales  is_holiday  \\\n",
       "0          1    A           1  2010-02-05      24924.50       False   \n",
       "1          1    A           1  2010-03-05      21827.90       False   \n",
       "2          1    A           1  2010-04-02      57258.43       False   \n",
       "3          1    A           1  2010-05-07      17413.94       False   \n",
       "4          1    A           1  2010-06-04      17558.09       False   \n",
       "...      ...  ...         ...         ...           ...         ...   \n",
       "10769     39    A          99  2011-12-09        895.00       False   \n",
       "10770     39    A          99  2012-02-03        350.00       False   \n",
       "10771     39    A          99  2012-06-08        450.00       False   \n",
       "10772     39    A          99  2012-07-13          0.06       False   \n",
       "10773     39    A          99  2012-10-05        915.00       False   \n",
       "\n",
       "       temperature_c  fuel_price_usd_per_l  unemployment  \n",
       "0           5.727778              0.679451         8.106  \n",
       "1           8.055556              0.693452         8.106  \n",
       "2          16.816667              0.718284         7.808  \n",
       "3          22.527778              0.748928         7.808  \n",
       "4          27.050000              0.714586         7.808  \n",
       "...              ...                   ...           ...  \n",
       "10769       9.644444              0.834256         7.716  \n",
       "10770      15.938889              0.887619         7.244  \n",
       "10771      27.288889              0.911922         6.989  \n",
       "10772      25.644444              0.860145         6.623  \n",
       "10773      22.250000              0.955511         6.228  \n",
       "\n",
       "[10774 rows x 9 columns]"
      ]
     },
     "execution_count": 1,
     "metadata": {},
     "output_type": "execute_result"
    }
   ],
   "source": [
    "import numpy as np\n",
    "import pandas as pd\n",
    "\n",
    "#data pull\n",
    "sales_subset_df=pd.read_csv(\"E:/CAREER_DATA/data_files/sales_subset.csv\",index_col=0)\n",
    "sales_subset_df"
   ]
  },
  {
   "cell_type": "code",
   "execution_count": 2,
   "id": "effa6d13",
   "metadata": {},
   "outputs": [
    {
     "name": "stdout",
     "output_type": "stream",
     "text": [
      "Mean of fuel_price_usd_per_l:\n",
      "0.7497458438815593\n",
      "Median of fuel_price_usd_per_l:\n",
      "0.7433805056783808\n",
      "Mode of fuel_price_usd_per_l:\n",
      "0.6794508388787476\n",
      "['A' 'B']\n",
      "Mode of type:\n",
      "A\n"
     ]
    }
   ],
   "source": [
    "#mean\n",
    "print(\"Mean of fuel_price_usd_per_l:\")\n",
    "print(sales_subset_df[\"fuel_price_usd_per_l\"].mean())\n",
    "#median\n",
    "sorted_sales_df=sales_subset_df.sort_values([\"fuel_price_usd_per_l\"])\n",
    "print(\"Median of fuel_price_usd_per_l:\")\n",
    "print(sorted_sales_df[\"fuel_price_usd_per_l\"].median())\n",
    "\n",
    "#mode\n",
    "import statistics\n",
    "print(\"Mode of fuel_price_usd_per_l:\")\n",
    "print(statistics.mode(sales_subset_df[\"fuel_price_usd_per_l\"]))#numerical variable\n",
    "#print(sales_subset_df.info())\n",
    "print(sales_subset_df[\"type\"].unique())\n",
    "print(\"Mode of type:\")\n",
    "print(statistics.mode(sales_subset_df[\"type\"])) #categorical variable"
   ]
  },
  {
   "cell_type": "markdown",
   "id": "939d4855",
   "metadata": {},
   "source": [
    "<h1>Measure of spread</h1>\n",
    "<p><b>It tells how data points is spread and close to each other</b></p>\n",
    "<ul>\n",
    "    <li>Variance: Average of all distances of data points from centre, higher the value the more data is spread</li>\n",
    "    <li>Standard Deviation: Square root of variance</li>\n",
    "    <li>Mean absolute deviation: more robust than variance in case of outliers</li>\n",
    "    <li>OUTLIERS: To calculate the outliers we need to know Quantile and IQR</li> \n",
    "    </ul>"
   ]
  },
  {
   "cell_type": "code",
   "execution_count": 3,
   "id": "c80cccf4",
   "metadata": {},
   "outputs": [
    {
     "name": "stdout",
     "output_type": "stream",
     "text": [
      "0.5657630129812283\n"
     ]
    }
   ],
   "source": [
    "#variance\n",
    "dist_from_centre=sales_subset_df[\"fuel_price_usd_per_l\"]\n",
    "-np.mean(sales_subset_df[\"fuel_price_usd_per_l\"]) \n",
    "sqrd_dist_from_centre=dist_from_centre**2\n",
    "sum_sqrd_dist_from_centre=np.sum(sqrd_dist_from_centre)\n",
    "var=sum_sqrd_dist_from_centre/(10773-1)\n",
    "print(var)"
   ]
  },
  {
   "cell_type": "code",
   "execution_count": 4,
   "id": "b1f268ab",
   "metadata": {},
   "outputs": [
    {
     "name": "stdout",
     "output_type": "stream",
     "text": [
      "0.003539158800241442\n",
      "0.0035394873214333327\n"
     ]
    }
   ],
   "source": [
    "#variance calculate krne aka asaan tareeqah\n",
    "print(np.var(sales_subset_df[\"fuel_price_usd_per_l\"])) #population variance is calculated\n",
    "print(np.var(sales_subset_df[\"fuel_price_usd_per_l\"],ddof=1)) #sample variance is calculated"
   ]
  },
  {
   "cell_type": "code",
   "execution_count": 5,
   "id": "75583dc1",
   "metadata": {},
   "outputs": [
    {
     "name": "stdout",
     "output_type": "stream",
     "text": [
      "Defaulting to user installation because normal site-packages is not writeable\n",
      "Requirement already satisfied: scipy in c:\\users\\hr computers\\appdata\\roaming\\python\\python311\\site-packages (1.11.1)\n",
      "Requirement already satisfied: numpy<1.28.0,>=1.21.6 in c:\\users\\hr computers\\appdata\\roaming\\python\\python311\\site-packages (from scipy) (1.25.1)\n"
     ]
    }
   ],
   "source": [
    "!pip install scipy"
   ]
  },
  {
   "cell_type": "code",
   "execution_count": 6,
   "id": "eb3e46cb",
   "metadata": {},
   "outputs": [
    {
     "data": {
      "text/html": [
       "<div>\n",
       "<style scoped>\n",
       "    .dataframe tbody tr th:only-of-type {\n",
       "        vertical-align: middle;\n",
       "    }\n",
       "\n",
       "    .dataframe tbody tr th {\n",
       "        vertical-align: top;\n",
       "    }\n",
       "\n",
       "    .dataframe thead th {\n",
       "        text-align: right;\n",
       "    }\n",
       "</style>\n",
       "<table border=\"1\" class=\"dataframe\">\n",
       "  <thead>\n",
       "    <tr style=\"text-align: right;\">\n",
       "      <th></th>\n",
       "      <th>store</th>\n",
       "      <th>type</th>\n",
       "      <th>department</th>\n",
       "      <th>date</th>\n",
       "      <th>weekly_sales</th>\n",
       "      <th>is_holiday</th>\n",
       "      <th>temperature_c</th>\n",
       "      <th>fuel_price_usd_per_l</th>\n",
       "      <th>unemployment</th>\n",
       "    </tr>\n",
       "  </thead>\n",
       "  <tbody>\n",
       "    <tr>\n",
       "      <th>0</th>\n",
       "      <td>1</td>\n",
       "      <td>A</td>\n",
       "      <td>1</td>\n",
       "      <td>2010-02-05</td>\n",
       "      <td>24924.50</td>\n",
       "      <td>False</td>\n",
       "      <td>5.727778</td>\n",
       "      <td>0.679451</td>\n",
       "      <td>8.106</td>\n",
       "    </tr>\n",
       "    <tr>\n",
       "      <th>1</th>\n",
       "      <td>1</td>\n",
       "      <td>A</td>\n",
       "      <td>1</td>\n",
       "      <td>2010-03-05</td>\n",
       "      <td>21827.90</td>\n",
       "      <td>False</td>\n",
       "      <td>8.055556</td>\n",
       "      <td>0.693452</td>\n",
       "      <td>8.106</td>\n",
       "    </tr>\n",
       "    <tr>\n",
       "      <th>2</th>\n",
       "      <td>1</td>\n",
       "      <td>A</td>\n",
       "      <td>1</td>\n",
       "      <td>2010-04-02</td>\n",
       "      <td>57258.43</td>\n",
       "      <td>False</td>\n",
       "      <td>16.816667</td>\n",
       "      <td>0.718284</td>\n",
       "      <td>7.808</td>\n",
       "    </tr>\n",
       "    <tr>\n",
       "      <th>3</th>\n",
       "      <td>1</td>\n",
       "      <td>A</td>\n",
       "      <td>1</td>\n",
       "      <td>2010-05-07</td>\n",
       "      <td>17413.94</td>\n",
       "      <td>False</td>\n",
       "      <td>22.527778</td>\n",
       "      <td>0.748928</td>\n",
       "      <td>7.808</td>\n",
       "    </tr>\n",
       "    <tr>\n",
       "      <th>4</th>\n",
       "      <td>1</td>\n",
       "      <td>A</td>\n",
       "      <td>1</td>\n",
       "      <td>2010-06-04</td>\n",
       "      <td>17558.09</td>\n",
       "      <td>False</td>\n",
       "      <td>27.050000</td>\n",
       "      <td>0.714586</td>\n",
       "      <td>7.808</td>\n",
       "    </tr>\n",
       "    <tr>\n",
       "      <th>...</th>\n",
       "      <td>...</td>\n",
       "      <td>...</td>\n",
       "      <td>...</td>\n",
       "      <td>...</td>\n",
       "      <td>...</td>\n",
       "      <td>...</td>\n",
       "      <td>...</td>\n",
       "      <td>...</td>\n",
       "      <td>...</td>\n",
       "    </tr>\n",
       "    <tr>\n",
       "      <th>10769</th>\n",
       "      <td>39</td>\n",
       "      <td>A</td>\n",
       "      <td>99</td>\n",
       "      <td>2011-12-09</td>\n",
       "      <td>895.00</td>\n",
       "      <td>False</td>\n",
       "      <td>9.644444</td>\n",
       "      <td>0.834256</td>\n",
       "      <td>7.716</td>\n",
       "    </tr>\n",
       "    <tr>\n",
       "      <th>10770</th>\n",
       "      <td>39</td>\n",
       "      <td>A</td>\n",
       "      <td>99</td>\n",
       "      <td>2012-02-03</td>\n",
       "      <td>350.00</td>\n",
       "      <td>False</td>\n",
       "      <td>15.938889</td>\n",
       "      <td>0.887619</td>\n",
       "      <td>7.244</td>\n",
       "    </tr>\n",
       "    <tr>\n",
       "      <th>10771</th>\n",
       "      <td>39</td>\n",
       "      <td>A</td>\n",
       "      <td>99</td>\n",
       "      <td>2012-06-08</td>\n",
       "      <td>450.00</td>\n",
       "      <td>False</td>\n",
       "      <td>27.288889</td>\n",
       "      <td>0.911922</td>\n",
       "      <td>6.989</td>\n",
       "    </tr>\n",
       "    <tr>\n",
       "      <th>10772</th>\n",
       "      <td>39</td>\n",
       "      <td>A</td>\n",
       "      <td>99</td>\n",
       "      <td>2012-07-13</td>\n",
       "      <td>0.06</td>\n",
       "      <td>False</td>\n",
       "      <td>25.644444</td>\n",
       "      <td>0.860145</td>\n",
       "      <td>6.623</td>\n",
       "    </tr>\n",
       "    <tr>\n",
       "      <th>10773</th>\n",
       "      <td>39</td>\n",
       "      <td>A</td>\n",
       "      <td>99</td>\n",
       "      <td>2012-10-05</td>\n",
       "      <td>915.00</td>\n",
       "      <td>False</td>\n",
       "      <td>22.250000</td>\n",
       "      <td>0.955511</td>\n",
       "      <td>6.228</td>\n",
       "    </tr>\n",
       "  </tbody>\n",
       "</table>\n",
       "<p>10772 rows × 9 columns</p>\n",
       "</div>"
      ],
      "text/plain": [
       "       store type  department        date  weekly_sales  is_holiday  \\\n",
       "0          1    A           1  2010-02-05      24924.50       False   \n",
       "1          1    A           1  2010-03-05      21827.90       False   \n",
       "2          1    A           1  2010-04-02      57258.43       False   \n",
       "3          1    A           1  2010-05-07      17413.94       False   \n",
       "4          1    A           1  2010-06-04      17558.09       False   \n",
       "...      ...  ...         ...         ...           ...         ...   \n",
       "10769     39    A          99  2011-12-09        895.00       False   \n",
       "10770     39    A          99  2012-02-03        350.00       False   \n",
       "10771     39    A          99  2012-06-08        450.00       False   \n",
       "10772     39    A          99  2012-07-13          0.06       False   \n",
       "10773     39    A          99  2012-10-05        915.00       False   \n",
       "\n",
       "       temperature_c  fuel_price_usd_per_l  unemployment  \n",
       "0           5.727778              0.679451         8.106  \n",
       "1           8.055556              0.693452         8.106  \n",
       "2          16.816667              0.718284         7.808  \n",
       "3          22.527778              0.748928         7.808  \n",
       "4          27.050000              0.714586         7.808  \n",
       "...              ...                   ...           ...  \n",
       "10769       9.644444              0.834256         7.716  \n",
       "10770      15.938889              0.887619         7.244  \n",
       "10771      27.288889              0.911922         6.989  \n",
       "10772      25.644444              0.860145         6.623  \n",
       "10773      22.250000              0.955511         6.228  \n",
       "\n",
       "[10772 rows x 9 columns]"
      ]
     },
     "execution_count": 6,
     "metadata": {},
     "output_type": "execute_result"
    }
   ],
   "source": [
    "#To calculate outliers\n",
    "from scipy.stats import iqr\n",
    "\n",
    "fuel_price_usd_per_l=sales_subset_df[\"fuel_price_usd_per_l\"]\n",
    "iqr=iqr(fuel_price_usd_per_l)\n",
    "lower_threshold=np.quantile(fuel_price_usd_per_l,0.25)-1.5*iqr\n",
    "upper_threshold=np.quantile(fuel_price_usd_per_l,0.75)-1.5*iqr\n",
    "outliers=sales_subset_df[(fuel_price_usd_per_l < lower_threshold)\n",
    "                         | (fuel_price_usd_per_l >upper_threshold)]\n",
    "outliers"
   ]
  },
  {
   "cell_type": "markdown",
   "id": "91a70040",
   "metadata": {},
   "source": [
    "<h1> Random numbers and probability</h1>\n",
    "<ul>\n",
    "    <li>sampling without replacement: during sampling when we get repeated data points==dependent sampling</li>\n",
    "    <li>sampling with replacement:during sampling when we get replaced repeated data points==independent sampling</li>\n",
    "    </ul>"
   ]
  },
  {
   "cell_type": "markdown",
   "id": "2c9c246f",
   "metadata": {},
   "source": [
    "<h1>Examples</h1>\n",
    "<ul>\n",
    "    <li>dependent Sampling: Any data point is affected by the another data point, yaani keh agr sample ke liye 30 data point available hain toh next sampling main 29 hongy, toh ab jab 29 main se sampling hogi woh pichle event se mutaassir hogi</li>\n",
    "    <li>Independent Sampling: Jab sampled hojany waly data ki kami ko hum khud poora kardein takeh sampling ka process mutaasir nah ho</li>"
   ]
  },
  {
   "cell_type": "code",
   "execution_count": 7,
   "id": "bf6ff373",
   "metadata": {},
   "outputs": [
    {
     "name": "stdout",
     "output_type": "stream",
     "text": [
      "dist_from_centre\t fuel_price_usd_per_l\t iqr\t lower_threshold\t np\t outliers\t pd\t sales_subset_df\t sorted_sales_df\t \n",
      "sqrd_dist_from_centre\t statistics\t sum_sqrd_dist_from_centre\t upper_threshold\t var\t \n",
      "Index(['store', 'type', 'department', 'date', 'weekly_sales', 'is_holiday',\n",
      "       'temperature_c', 'fuel_price_usd_per_l', 'unemployment'],\n",
      "      dtype='object')\n",
      "11.299444444444443\n",
      "19.98388888888889\n"
     ]
    }
   ],
   "source": [
    "\n",
    "%who\n",
    "print(sales_subset_df.columns)\n",
    "#print(sales_subset_df.info())\n",
    "#dependent sampling\n",
    "dep_sampled_data=sales_subset_df[\"temperature_c\"].sample(10) #50 samples nikaalo\n",
    "ind_sampled_data=sales_subset_df[\"temperature_c\"].sample(10,replace=True) #50 samples nikaalo\n",
    "print(dep_sampled_data.mean())\n",
    "print(ind_sampled_data.mean())\n",
    "#print(sales_subset_df[\"temperature_c\"].mean())\n",
    "#sales_subset_df[\"temperature_c\"]"
   ]
  },
  {
   "cell_type": "markdown",
   "id": "b8c672d6",
   "metadata": {},
   "source": [
    "<h1>What is dependent data?</h1>\n",
    "<p>Sampled data points jokeh during their pickup munsifanah tareeqe se pick nahi hoye</p>\n",
    "<p><b>Agr dice ko 1000 baar phenkngah toh har event ke appear hony ke chances barabar raheingy toh ussay jo data aayga woh independent data hoga, mgr agr dice kharab aesse hoi keh 2 ke aany ke chances barh jaein toh woh dependent data hoga</b></p>"
   ]
  },
  {
   "cell_type": "markdown",
   "id": "70c10ebc",
   "metadata": {},
   "source": [
    "<h1>How do we calculate the probability of 2 or more events?</h1>\n",
    "<p>Jin jin points ki probability maangi hai just add krdein</p>"
   ]
  },
  {
   "cell_type": "markdown",
   "id": "83f05128",
   "metadata": {},
   "source": [
    "<h1>Law of large numbers</h1>\n",
    "<p>Increasing sample size jab actual data jitna banjae<p>"
   ]
  },
  {
   "cell_type": "markdown",
   "id": "211600a1",
   "metadata": {},
   "source": [
    "<h1>Distribution</h1>\n",
    "<p>Discrete Distribution; woh data points jo countable houn, dice ke data points kitne hoty hain? ans:6</p>\n",
    "<p>Continous Distribution: jab data points countable nahi hoin</p>"
   ]
  },
  {
   "cell_type": "code",
   "execution_count": 8,
   "id": "826778ab",
   "metadata": {},
   "outputs": [
    {
     "name": "stdout",
     "output_type": "stream",
     "text": [
      "0.5833333333333334\n",
      "0.41666666666666663\n",
      "0.25000000000000006\n",
      "0.16666666666666663\n",
      "1.0\n"
     ]
    }
   ],
   "source": [
    "#continuous distribution\n",
    "from scipy.stats import uniform\n",
    "#wait time is 12 minutes, ab yeh 12 minutes calculate nahi krsakty ho kyun keh beech main seconds hain\n",
    "#calculate the probablity of wait time less than 7\n",
    "less_than_7=uniform.cdf(7,0,12) \n",
    "#1st argument is number of heads,\n",
    "#2nd and 3rd argument is range of values to sample,\n",
    "print(less_than_7)\n",
    "#calculate probability of more than 7\n",
    "more_than_7=1-uniform.cdf(7,0,12)\n",
    "print(more_than_7)\n",
    "#calculate probability of wait time less than 7 and more than 4\n",
    "less_7_more_4=uniform.cdf(7,0,12)-uniform.cdf(4,0,12)\n",
    "print(less_7_more_4)\n",
    "#calculate the probability of more than 10 mins\n",
    "more_than_10=1-uniform.cdf(10,0,12)\n",
    "print(more_than_10)\n",
    "#calculate the probability of less than 12 and more than 0\n",
    "above_0_less_12=uniform.cdf(12,0,12)-uniform.cdf(0,0,12)\n",
    "print(above_0_less_12)\n",
    "#why 100? kyun keh saarey data point ki probability ko add kara jata ha"
   ]
  },
  {
   "cell_type": "markdown",
   "id": "5393d72d",
   "metadata": {},
   "source": [
    "<h1>Outcome</h1>\n",
    "<ul>\n",
    "    <li>Probabilities add hoti hain</li>\n",
    "    <li>countable range of data points are descrete column</li>\n",
    "    </ul>"
   ]
  },
  {
   "cell_type": "markdown",
   "id": "6e61aa1b",
   "metadata": {},
   "source": [
    "<h1>Distribution</h1>\n",
    "<ul>\n",
    "    <li>Binomial Distribution: The range of data that has only two outcomes;pass or fail, true or false</li>\n",
    "    <li>Normal Distribution:</li>\n",
    "    <li> Distribution:</li>\n",
    "    <li> Distribution:</li>\n",
    "    <li> Distribution:</li>\n",
    "    <li> Distribution:</li>\n",
    "    <li> Distribution:</li>\n",
    "    </ul>"
   ]
  },
  {
   "cell_type": "code",
   "execution_count": 9,
   "id": "5d3f7e09",
   "metadata": {},
   "outputs": [
    {
     "name": "stdout",
     "output_type": "stream",
     "text": [
      "[0 1 0 0 1 0 0 1]\n"
     ]
    },
    {
     "data": {
      "image/png": "[encoded data removed]",
      "text/plain": [
       "<Figure size 640x480 with 1 Axes>"
      ]
     },
     "metadata": {},
     "output_type": "display_data"
    },
    {
     "name": "stdout",
     "output_type": "stream",
     "text": [
      "[3 2 1 3 2 3 2 3 1 1]\n"
     ]
    },
    {
     "data": {
      "image/png": "[encoded data removed]",
      "text/plain": [
       "<Figure size 640x480 with 1 Axes>"
      ]
     },
     "metadata": {},
     "output_type": "display_data"
    },
    {
     "name": "stdout",
     "output_type": "stream",
     "text": [
      "[ 3 11  5  5  7  7  6  6  7  7  7  4]\n"
     ]
    },
    {
     "data": {
      "image/png": "[encoded data removed]",
      "text/plain": [
       "<Figure size 640x480 with 1 Axes>"
      ]
     },
     "metadata": {},
     "output_type": "display_data"
    }
   ],
   "source": [
    "#binomial distribution\n",
    "#perform 8 flips of a coin, we know the probablity of head is 50%\n",
    "from scipy.stats import binom\n",
    "import matplotlib.pyplot as plt\n",
    "#fig, axes=plt.subplots(3,3, figsize=(10,10)) #creating multiple plots\n",
    "\n",
    "bin_8flips=binom.rvs(1,0.5,size=8) \n",
    "#1st argument is number od heads\n",
    "#2nd argument is number of heads success rate\n",
    "#3rd argument is the number of trials\n",
    "print(bin_8flips)\n",
    "plt.hist(bin_8flips,bins=2)\n",
    "plt.show()\n",
    "\n",
    "#perform 10 flips of 3 coins, we know the probability of head is 50%\n",
    "bin_10flips=binom.rvs(3,0.5,size=10)\n",
    "print(bin_10flips)\n",
    "plt.hist(bin_10flips)\n",
    "plt.show()\n",
    "#basically 2 aur 3 isliye dikh raha hai kyun keh 1 baar sampling main\n",
    "#3 baar coins ko flip kia gaya toh, jab pehla tial khatam hua toh saarey successes add bhi hogaye\n",
    "\n",
    "\n",
    "#perform 12 flips of 20 coins, with head have the probability is 30%, show binomial distribution\n",
    "bin_20_flips=binom.rvs(20,0.3,size=12)\n",
    "print(bin_20_flips)\n",
    "plt.hist(bin_20_flips)\n",
    "plt.show()"
   ]
  },
  {
   "cell_type": "code",
   "execution_count": 11,
   "id": "efe9a881",
   "metadata": {},
   "outputs": [
    {
     "name": "stdout",
     "output_type": "stream",
     "text": [
      "0.11718749999999999\n",
      "0.9453125\n",
      "0.07019082639999996\n",
      "0.0546875\n",
      "0.9298091736\n",
      "9.0\n",
      "0.2\n",
      "12.5\n"
     ]
    }
   ],
   "source": [
    "#now we have binary data and we will calculate probability \n",
    "\n",
    "#if i have a coin, it has 2 outcomes 0 or 1, then it is binomial data,\n",
    "#calculate the probablity of getting 7 head, num of trails=10, probablity of 1 is 50% \n",
    "print(binom.pmf(7,10,0.5)) \n",
    "#1st argument is number of heads\n",
    "#2nd argument is number of trials\n",
    "#3rd argument is head's success rate\n",
    "\n",
    "#calculate probablity of less than 7\n",
    "print(binom.cdf(7,10,0.5))\n",
    "#1st argument is number of heads less than 7\n",
    "#2nd argument is number of trials\n",
    "#3rd argument is head's success rate\n",
    "#probability jumps to 90%\n",
    "print(binom.cdf(7,10,0.9))\n",
    "\n",
    "#calculate probablity of more than 7\n",
    "print(1-binom.cdf(7,10,0.5))\n",
    "#probability jumps to 90%\n",
    "print(1-binom.cdf(7,10,0.9))\n",
    "\n",
    "#how to calculate expected value of probablity of sucess is 90%, trials=10\n",
    "exp1=0.9*10\n",
    "print(exp1)\n",
    "#how to calculate expected value of probablity of sucess is 10%, trials=2\n",
    "exp2=0.1*2\n",
    "print(exp2)\n",
    "#how to calculate expected value of probablity of sucess is 50%, trials=25\n",
    "exp3=0.5*25\n",
    "print(exp3)"
   ]
  },
  {
   "cell_type": "markdown",
   "id": "fcf2cb41",
   "metadata": {},
   "source": [
    "<h1>Binomial Distribution</h1>\n",
    "<p><b>Ap keh paas number of coins/coin hota hai, aapko 1 ya success aany ki probablity batadi jaati hai, aapko un 3 coins ko kitni baar trial krna hai woh bhi bata diya jata hai, <i>ab result main jo array aata hai woh array ka size aapke trials ke barabar hota hai, aur har trial sum krti hai 1 aany ka, kabhi kabhi answer 0 bhi aata hai iska matlb yeh hota hai us sampling ke us specific trial main 1 aik baar bhi nahi aaya hai</i></b></p>\n",
    "<p>Is tarah aik distribution create hojaati hai samples ki data se</p>"
   ]
  },
  {
   "cell_type": "markdown",
   "id": "2ddfdcf4",
   "metadata": {},
   "source": [
    "<h1>Normal Distribution</h1>\n",
    "<h2>How do we know the distribution is normal</h2>\n",
    "<ul>\n",
    "    <li>Area of curve=1</li>\n",
    "    <li>Area is symmetrical</li>\n",
    "    <li>Probablity around edges hitting 0</li>\n",
    "    <li>Mean is 0 and std=1</li>\n",
    "    <li>Area falls:</li>\n",
    "    <ul>\n",
    "        <li>68% area falls under 1 std</li>\n",
    "        <li>95% area falls under 2 std</li>\n",
    "        <li>99.7% area falls under 3 std</li>\n",
    "    </ul>\n",
    "    </ul>"
   ]
  },
  {
   "cell_type": "code",
   "execution_count": 18,
   "id": "1158fe4d",
   "metadata": {},
   "outputs": [
    {
     "name": "stdout",
     "output_type": "stream",
     "text": [
      "0.15865525393145707\n",
      "0.8413447460685429\n",
      "0.1251993291672192\n",
      "4.472818349725182e-116\n",
      "3.23888778178324e-117\n",
      "[155.28176218 167.73303295 163.80396273 157.0802765  164.31754093\n",
      " 161.74432866 164.26399998 163.89486181 161.62097513 169.76874021]\n"
     ]
    },
    {
     "data": {
      "image/png": "[encoded data removed]",
      "text/plain": [
       "<Figure size 640x480 with 1 Axes>"
      ]
     },
     "metadata": {},
     "output_type": "display_data"
    }
   ],
   "source": [
    "#In a normal distribution if you want to know the probablility of specific range\n",
    "from scipy.stats import norm\n",
    "p154_less=norm.cdf(154,161,7)\n",
    "#1st argument is the range of area from 0-154\n",
    "#2nd argument is mean of distribution\n",
    "#3rd argument is std\n",
    "print(p154_less)\n",
    "\n",
    "#find probability more than 154\n",
    "p154_more=1-norm.cdf(154,161,7)\n",
    "print(p154_more)\n",
    "\n",
    "#find p of less than 157 and more than 154\n",
    "p_range_157_to_154=norm.cdf(157,161,7)-norm.cdf(154,161,7)\n",
    "print(p_range_157_to_154)\n",
    "\n",
    "#to figure out what 90% of normally distributed data is saying\n",
    "print(norm.cdf(0.9,161,7))\n",
    "#to figure out what 10% of normally distributed data is saying\n",
    "print(norm.cdf(0.1,161,7))\n",
    "\n",
    "#to generate random numbers from normally distributed data\n",
    "print(norm.rvs(161,7,size=10))\n",
    "#1st argument is mean\n",
    "#2nd argument is std\n",
    "#3rd argument is number of trials\n",
    "plt.hist(norm.rvs(161,7,size=10)) #visualize distribution\n",
    "plt.show()"
   ]
  },
  {
   "cell_type": "markdown",
   "id": "333fd8c7",
   "metadata": {},
   "source": [
    "<h1> CENTRAL LIMIT THEORUM </h1>\n",
    "<p>When samples are taken out randomly independent process, the increasing number of trials making sample close to a normal distribution\n",
    "IT IS USEFUL AND SAVES TIME AND YOU BASICALLY GENERATE CLOSE DATA, RATHER THAN COLLECTING IT\n",
    "</p>"
   ]
  },
  {
   "cell_type": "code",
   "execution_count": 20,
   "id": "75556511",
   "metadata": {},
   "outputs": [],
   "source": [
    "#HOW TO REPEAT SAMPLING PROCESS"
   ]
  },
  {
   "cell_type": "markdown",
   "id": "d929466f",
   "metadata": {},
   "source": [
    "<h1>Poisson Distribution</h1>\n",
    "<p>Reoccurance of events at a specified interval of time\n",
    "Examples: 5 animals adopted per week, 12 people dying every year in mount everest.\n",
    "    lemda=average no of events per time interval\n",
    "    distribution peak==mean==most repeated\n",
    "</p>"
   ]
  },
  {
   "cell_type": "code",
   "execution_count": 27,
   "id": "1016346a",
   "metadata": {},
   "outputs": [
    {
     "name": "stdout",
     "output_type": "stream",
     "text": [
      "0.09160366159257921\n",
      "0.19123606207962532\n",
      "0.8087639379203747\n",
      "[ 4 10  8  9 11  6 10  6  9  7]\n"
     ]
    },
    {
     "data": {
      "image/png": "[encoded data removed]",
      "text/plain": [
       "<Figure size 640x480 with 1 Axes>"
      ]
     },
     "metadata": {},
     "output_type": "display_data"
    },
    {
     "name": "stdout",
     "output_type": "stream",
     "text": [
      "[20 31 20 26 35 21 19 25 31 24]\n"
     ]
    },
    {
     "data": {
      "image/png": "[encoded data removed]",
      "text/plain": [
       "<Figure size 640x480 with 1 Axes>"
      ]
     },
     "metadata": {},
     "output_type": "display_data"
    }
   ],
   "source": [
    "#IF LEMBA=8, then what is the probablity of 5 adaption in same interval\n",
    "from scipy.stats import poisson\n",
    "print(poisson.pmf(5,8))\n",
    "#1st argument is req average\n",
    "#2nd argument is a given average\n",
    "#to get probability of 5 or fewer adaptions\n",
    "print(poisson.cdf(5,8))\n",
    "#to get probability of 5 or more adaptions\n",
    "print(1-poisson.cdf(5,8))\n",
    "#take out samples from poisson distribution\n",
    "print(poisson.rvs(8,size=10))\n",
    "#1st argument is mean\n",
    "#2nd argument is hw many times we sample\n",
    "plt.hist(poisson.rvs(8,size=10))\n",
    "plt.show()\n",
    "\n",
    "print(poisson.rvs(26,size=10))\n",
    "plt.hist(poisson.rvs(26,size=10))\n",
    "plt.show()"
   ]
  },
  {
   "cell_type": "markdown",
   "id": "eadccd24",
   "metadata": {},
   "source": [
    "<h1>Exponenetial Distribution</h1>\n",
    "<p>The probability of finding interval of poisson events(repeating events)</p>"
   ]
  },
  {
   "cell_type": "code",
   "execution_count": 32,
   "id": "a19a98de",
   "metadata": {},
   "outputs": [
    {
     "name": "stdout",
     "output_type": "stream",
     "text": [
      "0.22119921692859515\n",
      "0.5352614285189903\n",
      "0.19520762379362322\n"
     ]
    }
   ],
   "source": [
    "#if 8 average adaption happening in a week,\n",
    "#what is the probability of 2 weeks or less of same 8 adaptions\n",
    "from scipy.stats import expon\n",
    "print(expon.cdf(2,scale=8))\n",
    "#22% chance is 8 adap/week happen\n",
    "\n",
    "#what is p animal adaption less than 5 weeks on same 8 adap/week\n",
    "print(1-expon.cdf(5,scale=8))\n",
    "#53% chance is 8adap/week\n",
    "\n",
    "#what is the p between 1 and 3, 8adap/week\n",
    "print(expon.cdf(3,scale=8)-expon.cdf(1,scale=8))\n",
    "#19% chance is 8adap/week "
   ]
  },
  {
   "cell_type": "markdown",
   "id": "b9646ad3",
   "metadata": {},
   "source": [
    "<h1>t-Distribution</h1>\n",
    "<p>When compared with normal distribution, more values are speaded, tails are thick, likely to be away from mean.</p>\n",
    "<h1>Log-Normal Distribution</h1>\n",
    "<p>A data that follow lograthimitic scale; ault blood pressure</p>"
   ]
  },
  {
   "cell_type": "markdown",
   "id": "79fe2404",
   "metadata": {},
   "source": [
    "<h1>Correlation</h1>\n",
    "<p>Aik event ke hony se doosra event ho, \n",
    "    +1 is very stong, 0 is weak and -1 is negative correlation\n",
    "Norelationship mean x doesn't correlated with y means x doesn't tell anythin about y</p>"
   ]
  },
  {
   "cell_type": "code",
   "execution_count": 38,
   "id": "45915546",
   "metadata": {},
   "outputs": [
    {
     "data": {
      "image/png": "[encoded data removed]",
      "text/plain": [
       "<Figure size 640x480 with 1 Axes>"
      ]
     },
     "metadata": {},
     "output_type": "display_data"
    },
    {
     "data": {
      "image/png": "[encoded data removed]",
      "text/plain": [
       "<Figure size 500x500 with 1 Axes>"
      ]
     },
     "metadata": {},
     "output_type": "display_data"
    }
   ],
   "source": [
    "#visualize correlation\n",
    "import seaborn as sns\n",
    "\n",
    "data = {\n",
    "    'Feature1': [1, 2, 3, 4, 5],\n",
    "    'Feature2': [3, 2, 4, 5, 6],\n",
    "    'Feature3': [5, 6, 7, 8, 9],\n",
    "    'Feature4': [8, 9, 10, 11, 12],\n",
    "}\n",
    "\n",
    "df = pd.DataFrame(data)\n",
    "sns.scatterplot(x=\"Feature1\",y=\"Feature2\",data=df)\n",
    "plt.show()\n",
    "#to add linear trend\n",
    "sns.lmplot(x=\"Feature1\",y=\"Feature2\",data=df,ci=None)\n",
    "plt.show()"
   ]
  },
  {
   "cell_type": "code",
   "execution_count": 40,
   "id": "05c4b353",
   "metadata": {},
   "outputs": [
    {
     "name": "stdout",
     "output_type": "stream",
     "text": [
      "0.8999999999999998\n"
     ]
    }
   ],
   "source": [
    "#to know correlation between columns\n",
    "print(df[\"Feature1\"].corr(df[\"Feature2\"]))"
   ]
  },
  {
   "cell_type": "markdown",
   "id": "26149557",
   "metadata": {},
   "source": [
    "<h1>Correlation Caveats</h1>\n",
    "<p><b>There are many ways to calculate correlation, we used Pearson Product Correlation</b><br><br>\n",
    "    In case of parabolically related data! correlation coefficient measures the strength of linear relationship</p>\n",
    "    "
   ]
  },
  {
   "cell_type": "markdown",
   "id": "7a795d38",
   "metadata": {},
   "source": [
    "<h1>Tips</h1>\n",
    "<p>Correlation should not be used blindly it must be visualize first the use</p>\n",
    "<ul>\n",
    "    <li>When data is highy skewed apply log transformation</li></ul>\n",
    "    <p>Other transformation required to find correlation</p>\n",
    "    <ul>\n",
    "    <li>log transformation;log(x)</li>\n",
    "    <li>sqrt transformation;sqrt(x)</li>\n",
    "    <li>reciprocal transformation;1/x</li>\n",
    "    <li>log and log transformation;log(x) and log(x)</li>\n",
    "    <li>sqrt and reciprocal transformation; sqrt(x) (1/x)</li>\n",
    "    <li> transformation</li>\n",
    "    </ul>\n",
    "</p>        \n",
    " <p><i>\"Correlation does not imply causation\"</i></p>"
   ]
  },
  {
   "cell_type": "markdown",
   "id": "6e2f4a99",
   "metadata": {},
   "source": [
    "<h1>Confounfing</h1>\n",
    "<p>Ex: Coffee drinking-association>Smoking, and Lung Cancer-causation>Smoking</p>\n",
    "<h1>Controlled Experiment</h1>\n",
    "<p>Group A recieves treatment, group B doesn't recieve it, Ex;A/B Testing.<br>\n",
    "Treatments group: sees an advertisement<br>\n",
    "control group: not seen an advertisement. In this testing groups should be cmparable, pata chala aap 25 saala ur 50 saal ke groups bana kr testing karrae houn, issey biasness aajatai hai results main, in this case age is potential confunder</p>\n",
    "<h1>Tips to eliminate confounding</h1>\n",
    "<ul>\n",
    "    <li>Randomizing controlled trial participant assigned to treatment/control randomly</li>\n",
    "    <li>Placebo: Participant don't in which group they are in</li>\n",
    "    <li>Double Blind Trial: Person who is controlling the group doesnt know whether treatment is real or placebo</li>\n",
    "    </ul>\n",
    "<h1>Observational Study</h1>\n",
    "<p>Participants are not forces to specific group</p>\n",
    "<h1>Longitudinal Study V Cross sectional study</h1>\n",
    "<p>Longitudinal: Data Record is of longer periods(30 years)<br>\n",
    "    Cross Sectional: Data stored in chunks, less expensive</p>\n",
    "    "
   ]
  },
  {
   "cell_type": "code",
   "execution_count": null,
   "id": "e81b3249",
   "metadata": {},
   "outputs": [],
   "source": []
  }
 ],
 "metadata": {
  "kernelspec": {
   "display_name": "Python 3 (ipykernel)",
   "language": "python",
   "name": "python3"
  },
  "language_info": {
   "codemirror_mode": {
    "name": "ipython",
    "version": 3
   },
   "file_extension": ".py",
   "mimetype": "text/x-python",
   "name": "python",
   "nbconvert_exporter": "python",
   "pygments_lexer": "ipython3",
   "version": "3.9.13"
  }
 },
 "nbformat": 4,
 "nbformat_minor": 5
}
