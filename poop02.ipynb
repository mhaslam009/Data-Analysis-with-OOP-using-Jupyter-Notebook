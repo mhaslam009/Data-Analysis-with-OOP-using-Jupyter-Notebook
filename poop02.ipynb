{
 "cells": [
  {
   "cell_type": "code",
   "execution_count": 165,
   "id": "09faab69",
   "metadata": {},
   "outputs": [],
   "source": [
    "import csv\n",
    "\n",
    "\n",
    "class My_class_04:  # class\n",
    "    discount = 0.7  # class attribute\n",
    "    list_of_objects = []\n",
    "\n",
    "    def __init__(self, name: str, price: float, quantity: int):\n",
    "        # validate recieving arguments\n",
    "        assert price >= 0, f\"{price} is lower than 0 \"\n",
    "        assert quantity >= 0, f\"{quantity} is lower than 0 \"\n",
    "        self.__name = name\n",
    "        self.__price = price\n",
    "        self.quantity = quantity\n",
    "\n",
    "        # saving objects to list_of_objects\n",
    "        My_class_04.list_of_objects.append(self)\n",
    "\n",
    "    #ENCAPSULATION\n",
    "\n",
    "    #restrict price attribute\n",
    "    @property\n",
    "    def price(self):\n",
    "        return self.__price\n",
    "    #increment price attribute\n",
    "    def apply_increment(self,increment_value):\n",
    "        self.__price=self.price+self.__price*increment_value\n",
    "\n",
    "\n",
    "    def discounting(self):\n",
    "        self.__price = self.__price * self.discount\n",
    "\n",
    "    @property #restring name attribute\n",
    "    def name(self):\n",
    "        return self.__name\n",
    "    @name.setter\n",
    "    def name(self, value):\n",
    "        if len(value)>10:\n",
    "            raise Exception(\"The length of setting character is more than 10 words!\")\n",
    "        else:\n",
    "            self.__name = value\n",
    "\n",
    "    @classmethod\n",
    "    def ins_csv_file(cls):\n",
    "        with open('E:\\CAREER_DATA\\python_dev\\\\database.csv', 'r') as f:\n",
    "            reader_dict_of_data = csv.DictReader(f)  # this method is going to read content as list of dictionaries\n",
    "            # to convert it into a list\n",
    "            items = list(reader_dict_of_data)\n",
    "            # now we have dictionaries into a list\n",
    "            print(items)\n",
    "            print(\"______________________\")\n",
    "            # all dictionories form a list\n",
    "            for item in items:\n",
    "                print(item)\n",
    "            # to create exact instances from list and access it\n",
    "            for i in items:  # here we will be reading of dictionary\n",
    "                My_class_04(  # we are craeting tuple\n",
    "                    name=str(i.get('name')),  # passes the column heading or passes key\n",
    "                    price=float(i.get('price')),  # passes the column heading or passes key\n",
    "                    quantity=float(i.get('quantity')),  # passes the column heading or passes key\n",
    "                )\n",
    "\n",
    "    @staticmethod\n",
    "    def is_integer(num):  # output the floats\n",
    "        if isinstance(num, float):  # if num is float\n",
    "            return num.is_integer()  # count out the floats\n",
    "        elif isinstance(num, int):\n",
    "            return True  # input numbers are integer\n",
    "        else:\n",
    "            return False\n",
    "\n",
    "\n",
    "\n",
    "    def calculation(self):\n",
    "        self.__price = self.__price * self.quantity\n",
    "        return self.__price\n",
    "\n",
    "    def calculation_for_broken(self):\n",
    "        self.quantity = self.quantity - self.broken_phones\n",
    "        self.broked_price = self.__price * self.quantity\n",
    "        return self.broked_price\n",
    "\n",
    "\n",
    "\n",
    "    def __repr__(self):\n",
    "        # return f\"My_class_04('{self.name}',{self.price},{self.quantity})\"\n",
    "        return f\"{self.__class__.__name__}('{self.name}',{self.__price},{self.quantity})\"\n",
    "\n",
    "    #ABSTRACTION\n",
    "    def __connect(self,smpt_server):\n",
    "        pass\n",
    "\n",
    "    def __prepare_body(self):\n",
    "        return f\"\"\"\n",
    "    HELLO JHON. WE HAVE WE WILL {self.name} and {self.price}\n",
    "    Regards ganjee\"\"\"\n",
    "\n",
    "    def __send(self):\n",
    "        pass\n",
    "    def send_email(self):\n",
    "        self.__connect('')\n",
    "        self.__prepare_body()\n",
    "        self.__send()\n",
    "#inheritence\n",
    "class Iphone_models(My_class_04):\n",
    "    def __init__(self, name: str, price: float, quantity: int, broken_phones=0, broked_price=0):\n",
    "        # validate recieving arguments\n",
    "\n",
    "        assert broken_phones >= 0, f\"{broken_phones} is lower than 0\"\n",
    "        assert broked_price >= 0, f\"{broked_price} is lower than 0\"\n",
    "        \n",
    "        #broken phones attribute which is new attribute\n",
    "        self.broken_phones = broken_phones\n",
    "        self.broked_price = broked_price\n",
    "        #how to include the variables that have used in parent class\n",
    "        super().__init__(\n",
    "        name,price,quantity\n",
    "        )\n",
    "\n"
   ]
  },
  {
   "cell_type": "code",
   "execution_count": 166,
   "id": "b63188e2",
   "metadata": {},
   "outputs": [],
   "source": [
    "# objects craeted\n",
    "\n",
    "entry_01 = My_class_04(\"Iphone\", 10000, 10)\n",
    "entry_02 = My_class_04(\"Iphone\", 200, 200)\n",
    "entry_03 = My_class_04(\"Iphone\", 20, 2000)\n",
    "entry_04 = My_class_04(\"Iphone\", 600, 4)\n",
    "entry_05 = My_class_04(\"Iphone\", 0, 100000)\n"
   ]
  },
  {
   "cell_type": "code",
   "execution_count": 167,
   "id": "426f9861",
   "metadata": {},
   "outputs": [
    {
     "name": "stdout",
     "output_type": "stream",
     "text": [
      "Iphone\n",
      "200\n",
      "2000\n",
      "_______________\n"
     ]
    }
   ],
   "source": [
    "#Access attributes\n",
    "\n",
    "print(entry_01.name)\n",
    "print(entry_02.price)\n",
    "print(entry_03.quantity)\n",
    "print(\"_______________\")\n"
   ]
  },
  {
   "cell_type": "code",
   "execution_count": 168,
   "id": "8ea3bcf8",
   "metadata": {},
   "outputs": [
    {
     "name": "stdout",
     "output_type": "stream",
     "text": [
      "100000\n",
      "2400\n",
      "_______________\n"
     ]
    }
   ],
   "source": [
    "#Access methods\n",
    "\n",
    "print(entry_01.calculation())\n",
    "print(entry_04.calculation())\n",
    "print(\"_______________\")\n"
   ]
  },
  {
   "cell_type": "code",
   "execution_count": 169,
   "id": "d2ea715e",
   "metadata": {},
   "outputs": [
    {
     "name": "stdout",
     "output_type": "stream",
     "text": [
      "100000\n",
      "70000.0\n",
      "200\n",
      "_________________\n"
     ]
    }
   ],
   "source": [
    "print(entry_01.price)\n",
    "\n",
    "#Access class attribute->discount() method\n",
    "entry_01.discounting()  # it changes the price of entry_01\n",
    "print(entry_01.price)  # extract the attribute which have gone through a change\n",
    "\n",
    "# entry_01 price has changed\n",
    "\n",
    "print(entry_02.price)\n",
    "# entry_02 price have not changed because we didnt apply discounting method\n",
    "print(\"_________________\")\n"
   ]
  },
  {
   "cell_type": "code",
   "execution_count": 170,
   "id": "f23e6c6a",
   "metadata": {},
   "outputs": [
    {
     "name": "stdout",
     "output_type": "stream",
     "text": [
      "2400\n",
      "1200.0\n",
      "____________________\n"
     ]
    }
   ],
   "source": [
    "\n",
    "\n",
    "#Overriding the class attribute which is discount variable then using discounting() method\n",
    "print(entry_04.price)\n",
    "entry_04.discount = 0.5  # 50% discount overriding class attribute discount variable\n",
    "entry_04.discounting()\n",
    "print(entry_04.price)\n",
    "print(\"____________________\")\n"
   ]
  },
  {
   "cell_type": "code",
   "execution_count": 171,
   "id": "1af86f78",
   "metadata": {},
   "outputs": [
    {
     "name": "stdout",
     "output_type": "stream",
     "text": [
      "[My_class_04('Iphone',70000.0,10), My_class_04('Iphone',200,200), My_class_04('Iphone',20,2000), My_class_04('Iphone',1200.0,4), My_class_04('Iphone',0,100000)]\n"
     ]
    }
   ],
   "source": [
    "#Access list of objects\n",
    "\n",
    "print(My_class_04.list_of_objects)\n",
    "\n"
   ]
  },
  {
   "cell_type": "code",
   "execution_count": 172,
   "id": "fcdce56a",
   "metadata": {},
   "outputs": [
    {
     "name": "stdout",
     "output_type": "stream",
     "text": [
      "Iphone\n",
      "10\n",
      "_____________\n",
      "Iphone\n",
      "200\n",
      "_____________\n",
      "Iphone\n",
      "2000\n",
      "_____________\n",
      "Iphone\n",
      "4\n",
      "_____________\n",
      "Iphone\n",
      "100000\n",
      "_____________\n"
     ]
    }
   ],
   "source": [
    "#Access attribute from a list of object\n",
    "\n",
    "for i in My_class_04.list_of_objects:\n",
    "    print(i.name)  # name attribute from objects list\n",
    "    print(i.quantity)  # quantity object from a list of objects\n",
    "    print(\"_____________\")\n"
   ]
  },
  {
   "cell_type": "code",
   "execution_count": 173,
   "id": "42e37ddb",
   "metadata": {},
   "outputs": [
    {
     "name": "stdout",
     "output_type": "stream",
     "text": [
      "[{'name': 'Iphone', 'price': ' 10000', 'quantity': ' 10'}, {'name': 'qmobile', 'price': ' 200', 'quantity': ' 200'}, {'name': 'pocox 3 nfc', 'price': ' 20', 'quantity': ' 2000'}, {'name': 'redmi note 9', 'price': ' 600', 'quantity': ' 4'}, {'name': 'samsung lmao', 'price': ' 0', 'quantity': ' 100000'}]\n",
      "______________________\n",
      "{'name': 'Iphone', 'price': ' 10000', 'quantity': ' 10'}\n",
      "{'name': 'qmobile', 'price': ' 200', 'quantity': ' 200'}\n",
      "{'name': 'pocox 3 nfc', 'price': ' 20', 'quantity': ' 2000'}\n",
      "{'name': 'redmi note 9', 'price': ' 600', 'quantity': ' 4'}\n",
      "{'name': 'samsung lmao', 'price': ' 0', 'quantity': ' 100000'}\n",
      ".......................................................................................\n",
      "[My_class_04('Iphone',70000.0,10), My_class_04('Iphone',200,200), My_class_04('Iphone',20,2000), My_class_04('Iphone',1200.0,4), My_class_04('Iphone',0,100000), My_class_04('Iphone',10000.0,10.0), My_class_04('qmobile',200.0,200.0), My_class_04('pocox 3 nfc',20.0,2000.0), My_class_04('redmi note 9',600.0,4.0), My_class_04('samsung lmao',0.0,100000.0)]\n"
     ]
    }
   ],
   "source": [
    "#Access class method\n",
    "My_class_04.ins_csv_file()\n",
    "\n",
    "print(\".......................................................................................\")\n",
    "\n",
    "#Access class objects by applying method\n",
    "\n",
    "print(My_class_04.list_of_objects)"
   ]
  },
  {
   "cell_type": "code",
   "execution_count": 174,
   "id": "2fa6ba57",
   "metadata": {},
   "outputs": [
    {
     "name": "stdout",
     "output_type": "stream",
     "text": [
      "True\n"
     ]
    }
   ],
   "source": [
    "#access static method\n",
    "\n",
    "print(My_class_04.is_integer(90))"
   ]
  },
  {
   "cell_type": "code",
   "execution_count": 175,
   "id": "99cbd9e2",
   "metadata": {},
   "outputs": [
    {
     "name": "stdout",
     "output_type": "stream",
     "text": [
      "2\n",
      "800\n",
      "10\n",
      "0\n"
     ]
    }
   ],
   "source": [
    "ip_01=Iphone_models(\"iphone9\",100,10,2)\n",
    "ip_02=Iphone_models(\"iphone10\",500,10,10)\n",
    "print(ip_01.broken_phones)\n",
    "print(ip_01.calculation_for_broken())\n",
    "print(ip_02.broken_phones)\n",
    "print(ip_02.calculation_for_broken())"
   ]
  },
  {
   "cell_type": "code",
   "execution_count": 176,
   "id": "c2f37e4a",
   "metadata": {},
   "outputs": [
    {
     "name": "stdout",
     "output_type": "stream",
     "text": [
      "[My_class_04('Iphone',70000.0,10), My_class_04('Iphone',200,200), My_class_04('Iphone',20,2000), My_class_04('Iphone',1200.0,4), My_class_04('Iphone',0,100000), My_class_04('Iphone',10000.0,10.0), My_class_04('qmobile',200.0,200.0), My_class_04('pocox 3 nfc',20.0,2000.0), My_class_04('redmi note 9',600.0,4.0), My_class_04('samsung lmao',0.0,100000.0), Iphone_models('iphone9',100,8), Iphone_models('iphone10',500,0)]\n",
      "My_class_04('Iphone',70000.0,10)\n",
      "My_class_04('Iphone',200,200)\n",
      "My_class_04('Iphone',20,2000)\n",
      "My_class_04('Iphone',1200.0,4)\n",
      "My_class_04('Iphone',0,100000)\n",
      "My_class_04('Iphone',10000.0,10.0)\n",
      "My_class_04('qmobile',200.0,200.0)\n",
      "My_class_04('pocox 3 nfc',20.0,2000.0)\n",
      "My_class_04('redmi note 9',600.0,4.0)\n",
      "My_class_04('samsung lmao',0.0,100000.0)\n",
      "Iphone_models('iphone9',100,8)\n",
      "Iphone_models('iphone10',500,0)\n"
     ]
    }
   ],
   "source": [
    "#now access list of objects\n",
    "print(Iphone_models.list_of_objects)\n",
    "#only the name of the parent class is appearing to handle this issue\n",
    "for i in Iphone_models.list_of_objects:\n",
    "    print(i)\n",
    "#change inside __repr__ in parent class"
   ]
  },
  {
   "cell_type": "code",
   "execution_count": 177,
   "id": "b406241f",
   "metadata": {},
   "outputs": [
    {
     "ename": "ModuleNotFoundError",
     "evalue": "No module named 'parent_class'",
     "output_type": "error",
     "traceback": [
      "\u001b[1;31m---------------------------------------------------------------------------\u001b[0m",
      "\u001b[1;31mModuleNotFoundError\u001b[0m                       Traceback (most recent call last)",
      "\u001b[1;32m~\\AppData\\Local\\Temp\\ipykernel_11224\\2392580939.py\u001b[0m in \u001b[0;36m<module>\u001b[1;34m\u001b[0m\n\u001b[1;32m----> 1\u001b[1;33m \u001b[1;32mfrom\u001b[0m \u001b[0mparent_class\u001b[0m \u001b[1;32mimport\u001b[0m \u001b[0mMy_class_04\u001b[0m\u001b[1;33m\u001b[0m\u001b[1;33m\u001b[0m\u001b[0m\n\u001b[0m\u001b[0;32m      2\u001b[0m \u001b[1;32mfrom\u001b[0m \u001b[0mchild_class01\u001b[0m \u001b[1;32mimport\u001b[0m \u001b[0mIphone_models\u001b[0m\u001b[1;33m\u001b[0m\u001b[1;33m\u001b[0m\u001b[0m\n\u001b[0;32m      3\u001b[0m \u001b[1;33m\u001b[0m\u001b[0m\n\u001b[0;32m      4\u001b[0m \u001b[1;31m#CREATE OBJECTS\u001b[0m\u001b[1;33m\u001b[0m\u001b[1;33m\u001b[0m\u001b[0m\n\u001b[0;32m      5\u001b[0m \u001b[0mMy_class_04\u001b[0m\u001b[1;33m.\u001b[0m\u001b[0mins_csv_file\u001b[0m\u001b[1;33m(\u001b[0m\u001b[1;33m)\u001b[0m\u001b[1;33m\u001b[0m\u001b[1;33m\u001b[0m\u001b[0m\n",
      "\u001b[1;31mModuleNotFoundError\u001b[0m: No module named 'parent_class'"
     ]
    }
   ],
   "source": []
  }
 ],
 "metadata": {
  "kernelspec": {
   "display_name": "Python 3 (ipykernel)",
   "language": "python",
   "name": "python3"
  },
  "language_info": {
   "codemirror_mode": {
    "name": "ipython",
    "version": 3
   },
   "file_extension": ".py",
   "mimetype": "text/x-python",
   "name": "python",
   "nbconvert_exporter": "python",
   "pygments_lexer": "ipython3",
   "version": "3.9.13"
  }
 },
 "nbformat": 4,
 "nbformat_minor": 5
}
