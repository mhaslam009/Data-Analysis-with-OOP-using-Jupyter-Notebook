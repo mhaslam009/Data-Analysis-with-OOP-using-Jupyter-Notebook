{
 "cells": [
  {
   "cell_type": "markdown",
   "id": "907cb765",
   "metadata": {},
   "source": [
    "<h1>Statistics Main function</h1>"
   ]
  },
  {
   "cell_type": "code",
   "execution_count": 2,
   "id": "3a320c72",
   "metadata": {},
   "outputs": [
    {
     "name": "stdout",
     "output_type": "stream",
     "text": [
      "0.11718749999999999\n",
      "0.9453125\n",
      "[160.12150032 167.87462462 179.26959548 155.02252821 157.77294202\n",
      " 164.81058163 159.11763441 161.81544155 169.34479057 153.60363068]\n"
     ]
    },
    {
     "data": {
      "text/plain": [
       "0.22119921692859515"
      ]
     },
     "execution_count": 2,
     "metadata": {},
     "output_type": "execute_result"
    }
   ],
   "source": [
    "from scipy.stats import uniform,binom,norm,poisson,expon\n",
    "\n",
    "#P of continuous distribution\n",
    "uniform.cdf(7,0,12)\n",
    "#1st argument is number of heads,\n",
    "#2nd and 3rd argument is range of values to sample\n",
    "\n",
    "\n",
    "#Distribution of binomial sampling\n",
    "binom.rvs(1,0.5,size=8) \n",
    "#1st argument is number od heads\n",
    "#2nd argument is number of heads success rate\n",
    "#3rd argument is the number of trials\n",
    "\n",
    "\n",
    "#P of exacly 7 binomial\n",
    "print(binom.pmf(7,10,0.5)) \n",
    "#1st argument is number of heads\n",
    "#2nd argument is number of trials\n",
    "#3rd argument is head's success rate\n",
    "#calculate probablity of less than 7\n",
    "print(binom.cdf(7,10,0.5))\n",
    "\n",
    "\n",
    "#P of normal distribution\n",
    "norm.cdf(154,161,7)\n",
    "#1st argument is the range of area from 0-154\n",
    "#2nd argument is mean of distribution\n",
    "#3rd argument is std\n",
    "#Distribution of Nomral \n",
    "print(norm.rvs(161,7,size=10))\n",
    "#1st argument is mean\n",
    "#2nd argument is std\n",
    "#3rd argument is number of trials\n",
    "\n",
    "\n",
    "#Poisson distribution\n",
    "poisson.rvs(26,size=10)\n",
    "#1st argument is req average\n",
    "#2nd argument is a given average\n",
    "#to get probability of 5 or fewer adaptions\n",
    "#P of Poisson \n",
    "poisson.cdf(5,8)\n",
    "#1st argument is mean\n",
    "#2nd argument is hw many times we sample\n",
    "\n",
    "\n",
    "#P of exponenetial\n",
    "expon.cdf(2,scale=8)\n",
    "#1st argument is required weeks\n",
    "#2nd argument is given weeks\n",
    "\n",
    "\n",
    "#to know correlation between columns\n",
    "#print(df[\"Feature1\"].corr(df[\"Feature2\"]))"
   ]
  }
 ],
 "metadata": {
  "kernelspec": {
   "display_name": "Python 3 (ipykernel)",
   "language": "python",
   "name": "python3"
  },
  "language_info": {
   "codemirror_mode": {
    "name": "ipython",
    "version": 3
   },
   "file_extension": ".py",
   "mimetype": "text/x-python",
   "name": "python",
   "nbconvert_exporter": "python",
   "pygments_lexer": "ipython3",
   "version": "3.9.13"
  }
 },
 "nbformat": 4,
 "nbformat_minor": 5
}
