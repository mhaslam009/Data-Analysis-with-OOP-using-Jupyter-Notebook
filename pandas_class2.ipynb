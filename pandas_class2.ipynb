{
 "cells": [
  {
   "cell_type": "markdown",
   "id": "13138aae",
   "metadata": {},
   "source": [
    "<h1>pandas</h1>"
   ]
  },
  {
   "cell_type": "code",
   "execution_count": 2,
   "id": "c05e83ef",
   "metadata": {},
   "outputs": [
    {
     "name": "stdout",
     "output_type": "stream",
     "text": [
      "[12 34 67 89]\n"
     ]
    },
    {
     "data": {
      "text/html": [
       "<div>\n",
       "<style scoped>\n",
       "    .dataframe tbody tr th:only-of-type {\n",
       "        vertical-align: middle;\n",
       "    }\n",
       "\n",
       "    .dataframe tbody tr th {\n",
       "        vertical-align: top;\n",
       "    }\n",
       "\n",
       "    .dataframe thead th {\n",
       "        text-align: right;\n",
       "    }\n",
       "</style>\n",
       "<table border=\"1\" class=\"dataframe\">\n",
       "  <thead>\n",
       "    <tr style=\"text-align: right;\">\n",
       "      <th></th>\n",
       "      <th>country</th>\n",
       "      <th>capital</th>\n",
       "      <th>area</th>\n",
       "      <th>population</th>\n",
       "    </tr>\n",
       "  </thead>\n",
       "  <tbody>\n",
       "    <tr>\n",
       "      <th>BR</th>\n",
       "      <td>Brazil</td>\n",
       "      <td>Brasilia</td>\n",
       "      <td>8.516</td>\n",
       "      <td>200.40</td>\n",
       "    </tr>\n",
       "    <tr>\n",
       "      <th>RU</th>\n",
       "      <td>Russia</td>\n",
       "      <td>Moscow</td>\n",
       "      <td>17.100</td>\n",
       "      <td>143.50</td>\n",
       "    </tr>\n",
       "    <tr>\n",
       "      <th>IN</th>\n",
       "      <td>India</td>\n",
       "      <td>New Delhi</td>\n",
       "      <td>3.286</td>\n",
       "      <td>1252.00</td>\n",
       "    </tr>\n",
       "    <tr>\n",
       "      <th>CH</th>\n",
       "      <td>China</td>\n",
       "      <td>Beijing</td>\n",
       "      <td>9.597</td>\n",
       "      <td>1357.00</td>\n",
       "    </tr>\n",
       "    <tr>\n",
       "      <th>SA</th>\n",
       "      <td>South Africa</td>\n",
       "      <td>Pretoria</td>\n",
       "      <td>1.221</td>\n",
       "      <td>52.98</td>\n",
       "    </tr>\n",
       "  </tbody>\n",
       "</table>\n",
       "</div>"
      ],
      "text/plain": [
       "         country    capital    area  population\n",
       "BR        Brazil   Brasilia   8.516      200.40\n",
       "RU        Russia     Moscow  17.100      143.50\n",
       "IN         India  New Delhi   3.286     1252.00\n",
       "CH         China    Beijing   9.597     1357.00\n",
       "SA  South Africa   Pretoria   1.221       52.98"
      ]
     },
     "execution_count": 2,
     "metadata": {},
     "output_type": "execute_result"
    }
   ],
   "source": [
    "import numpy as np \n",
    "height_np=np.array([12,34,67,89])\n",
    "print(height_np)\n",
    "\n",
    "import pandas as pd\n",
    "brics_df=pd.read_csv(\"E:\\CAREER_DATA\\data_files\\\\brics.txt\",index_col=0)\n",
    "brics_df"
   ]
  },
  {
   "cell_type": "markdown",
   "id": "9683e578",
   "metadata": {},
   "source": [
    "<h2>Subsetting<h2>\n",
    "<ul>\n",
    "<li>Bracket method []</li>\n",
    "<li>Lable base method .loc[]</li>\n",
    "<li>Position base method .iloc[]</li>\n",
    "</ul>"
   ]
  },
  {
   "cell_type": "code",
   "execution_count": 3,
   "id": "9651f169",
   "metadata": {},
   "outputs": [
    {
     "name": "stdout",
     "output_type": "stream",
     "text": [
      "         country  population\n",
      "BR        Brazil      200.40\n",
      "RU        Russia      143.50\n",
      "IN         India     1252.00\n",
      "CH         China     1357.00\n",
      "SA  South Africa       52.98\n",
      "________________________________\n",
      "   country    capital    area  population\n",
      "RU  Russia     Moscow  17.100       143.5\n",
      "IN   India  New Delhi   3.286      1252.0\n"
     ]
    }
   ],
   "source": [
    "#From bracket method subset specific columns and all rows\n",
    "brics_bracket_meth_spc_col_allrows_subs=brics_df[[\"country\",\"population\"]]\n",
    "print(brics_bracket_meth_spc_col_allrows_subs)\n",
    "print(\"________________________________\")\n",
    "#from bracket method subset specific rows and all columns\n",
    "brics_bracket_meth_spc_rows_allcols_subs=brics_df[1:3]\n",
    "print(brics_bracket_meth_spc_rows_allcols_subs)"
   ]
  },
  {
   "cell_type": "code",
   "execution_count": 4,
   "id": "da9563f7",
   "metadata": {},
   "outputs": [
    {
     "name": "stdout",
     "output_type": "stream",
     "text": [
      "         country   capital    area  population\n",
      "RU        Russia    Moscow  17.100      143.50\n",
      "SA  South Africa  Pretoria   1.221       52.98\n",
      "______________________\n",
      "         country    capital\n",
      "BR        Brazil   Brasilia\n",
      "RU        Russia     Moscow\n",
      "IN         India  New Delhi\n",
      "CH         China    Beijing\n",
      "SA  South Africa   Pretoria\n",
      "______________________\n",
      "   country    capital\n",
      "RU  Russia     Moscow\n",
      "IN   India  New Delhi\n",
      "CH   China    Beijing\n"
     ]
    }
   ],
   "source": [
    "#from label method access rows\n",
    "brics_row_acc_lab_meth=brics_df.loc[[\"RU\",\"SA\"]]\n",
    "print(brics_row_acc_lab_meth)\n",
    "print(\"______________________\")\n",
    "#from label method access columns\n",
    "brics_col_acc_lab_meth=brics_df.loc[:,[\"country\",\"capital\"]]\n",
    "print(brics_col_acc_lab_meth)\n",
    "print(\"______________________\")\n",
    "#from label method access row and column both\n",
    "brics_row_col_acc_lab_meth=brics_df.loc[[\"RU\",\"IN\",\"CH\"],[\"country\",\"capital\"]]\n",
    "print(brics_row_col_acc_lab_meth)"
   ]
  },
  {
   "cell_type": "code",
   "execution_count": 5,
   "id": "741c8f5a",
   "metadata": {},
   "outputs": [
    {
     "name": "stdout",
     "output_type": "stream",
     "text": [
      "      capital    area  population\n",
      "BR   Brasilia   8.516      200.40\n",
      "RU     Moscow  17.100      143.50\n",
      "IN  New Delhi   3.286     1252.00\n",
      "CH    Beijing   9.597     1357.00\n",
      "SA   Pretoria   1.221       52.98\n",
      "_____________________________\n",
      "   country   capital   area  population\n",
      "BR  Brazil  Brasilia  8.516       200.4\n",
      "CH   China   Beijing  9.597      1357.0\n",
      "_____________________________\n",
      "     area  population\n",
      "BR  8.516       200.4\n",
      "IN  3.286      1252.0\n"
     ]
    }
   ],
   "source": [
    "#from position based method access column\n",
    "brics_rows_acc_pos_meth=brics_df.iloc[:,[1,2,3]]\n",
    "print(brics_rows_acc_pos_meth)\n",
    "print(\"_____________________________\")\n",
    "#from position based method access rows\n",
    "brics_cols_acc_pos_meth=brics_df.iloc[[0,3],:]\n",
    "print(brics_cols_acc_pos_meth)\n",
    "print(\"_____________________________\")\n",
    "#from position based method access rows and columns\n",
    "brics_rowscols_acc_pos_meth=brics_df.iloc[[0,2],[2,3]]\n",
    "print(brics_rowscols_acc_pos_meth)"
   ]
  },
  {
   "cell_type": "markdown",
   "id": "2d9c23a3",
   "metadata": {},
   "source": [
    "<h1>Numpy and or and not</h1>\n",
    "<ul>\n",
    "    <li>logical_or()</li>\n",
    "    <li>logical_and()</li>\n",
    "    <li>logical_not()</li>\n",
    "</ul>\n",
    " "
   ]
  },
  {
   "cell_type": "markdown",
   "id": "a5220e7c",
   "metadata": {},
   "source": [
    "<h1>Slicing</h1>"
   ]
  },
  {
   "cell_type": "code",
   "execution_count": 6,
   "id": "78dd035d",
   "metadata": {},
   "outputs": [
    {
     "name": "stdout",
     "output_type": "stream",
     "text": [
      "         country    capital   area  population\n",
      "IN         India  New Delhi  3.286     1252.00\n",
      "SA  South Africa   Pretoria  1.221       52.98\n",
      "___________________________________________\n",
      "   country   capital   area  population\n",
      "BR  Brazil  Brasilia  8.516       200.4\n",
      "CH   China   Beijing  9.597      1357.0\n"
     ]
    }
   ],
   "source": [
    "#Slice columns and rows by loc method\n",
    "brics_sliced=brics_df[brics_df.loc[:,\"area\"]<8] #that will filter all rows of a selected(mentioned) column in a dataframe\n",
    "print(brics_sliced)\n",
    "print(\"___________________________________________\")\n",
    "#slice by numpy and, or, and not method\n",
    "brics_and_method_sliced=brics_df.loc[np.logical_and(brics_df[\"area\"]>8, brics_df[\"area\"]<10)]\n",
    "\n",
    "#brics_and_method_sliced = brics_df[np.logical_and(brics_df[\"area\"] > 8, brics_df[\"area\"] < 10)]\n",
    "\n",
    "print(brics_and_method_sliced)"
   ]
  },
  {
   "cell_type": "markdown",
   "id": "06018269",
   "metadata": {},
   "source": []
  },
  {
   "cell_type": "code",
   "execution_count": 7,
   "id": "bd3dd020",
   "metadata": {},
   "outputs": [
    {
     "name": "stdout",
     "output_type": "stream",
     "text": [
      "BR: Brasilia\n",
      "RU: Moscow\n",
      "IN: New Delhi\n",
      "CH: Beijing\n",
      "SA: Pretoria\n"
     ]
    }
   ],
   "source": [
    "#specific columns ke elements run houn\n",
    "for label, rows in brics_df.iterrows():\n",
    "    print(label+\": \"+rows[\"capital\"])"
   ]
  },
  {
   "cell_type": "code",
   "execution_count": 8,
   "id": "3bc35df3",
   "metadata": {},
   "outputs": [
    {
     "name": "stdout",
     "output_type": "stream",
     "text": [
      "                  country    capital    area  population\n",
      "BR                 Brazil   Brasilia   8.516      200.40\n",
      "RU                 Russia     Moscow  17.100      143.50\n",
      "IN                  India  New Delhi   3.286     1252.00\n",
      "CH                  China    Beijing   9.597     1357.00\n",
      "SA           South Africa   Pretoria   1.221       52.98\n",
      "name_length             5          5   5.000        5.00\n",
      "_______________\n",
      "         country    capital    area  population\n",
      "BR        Brazil   Brasilia   8.516      200.40\n",
      "RU        Russia     Moscow  17.100      143.50\n",
      "IN         India  New Delhi   3.286     1252.00\n",
      "CH         China    Beijing   9.597     1357.00\n",
      "SA  South Africa   Pretoria   1.221       52.98\n",
      "___________________\n",
      "         country    capital    area  population  capital_name_length\n",
      "BR        Brazil   Brasilia   8.516      200.40                    8\n",
      "RU        Russia     Moscow  17.100      143.50                    6\n",
      "IN         India  New Delhi   3.286     1252.00                    9\n",
      "CH         China    Beijing   9.597     1357.00                    7\n",
      "SA  South Africa   Pretoria   1.221       52.98                    8\n"
     ]
    }
   ],
   "source": [
    "#feature engineering \n",
    "brics_df.loc['name_length']=len(brics_df[\"country\"])\n",
    "print(brics_df)\n",
    "print(\"_______________\")\n",
    "\n",
    "#another better way of creating \n",
    "brics_df=brics_df.drop(\"name_length\")\n",
    "print(brics_df)\n",
    "print(\"___________________\")\n",
    "\n",
    "brics_df[\"capital_name_length\"]=brics_df[\"capital\"].apply(len) #to apply len, remember the specfied column does not contain any numeric variable\n",
    "print(brics_df)\n"
   ]
  },
  {
   "cell_type": "markdown",
   "id": "a9c5723e",
   "metadata": {},
   "source": [
    "<h1>IMPORT ALL DATA</h1>"
   ]
  },
  {
   "cell_type": "code",
   "execution_count": 9,
   "id": "e0f8c54e",
   "metadata": {},
   "outputs": [
    {
     "name": "stdout",
     "output_type": "stream",
     "text": [
      "         country    capital    area  population\n",
      "BR        Brazil   Brasilia   8.516      200.40\n",
      "RU        Russia     Moscow  17.100      143.50\n",
      "IN         India  New Delhi   3.286     1252.00\n",
      "CH         China    Beijing   9.597     1357.00\n",
      "SA  South Africa   Pretoria   1.221       52.98\n",
      "...........................................................................................\n",
      "     cars_per_cap        country  drives_right\n",
      "US            809  United States          True\n",
      "AUS           731      Australia         False\n",
      "JAP           588          Japan         False\n",
      "IN             18          India         False\n",
      "RU            200         Russia          True\n",
      "MOR            70        Morocco          True\n",
      "EG             45          Egypt          True\n",
      "...........................................................................................\n",
      "                 country  year  population      cont  life_exp       gdp_cap\n",
      "11           Afghanistan  2007  31889923.0      Asia    43.828    974.580338\n",
      "23               Albania  2007   3600523.0    Europe    76.423   5937.029526\n",
      "35               Algeria  2007  33333216.0    Africa    72.301   6223.367465\n",
      "47                Angola  2007  12420476.0    Africa    42.731   4797.231267\n",
      "59             Argentina  2007  40301927.0  Americas    75.320  12779.379640\n",
      "...                  ...   ...         ...       ...       ...           ...\n",
      "1655             Vietnam  2007  85262356.0      Asia    74.249   2441.576404\n",
      "1667  West Bank and Gaza  2007   4018332.0      Asia    73.422   3025.349798\n",
      "1679         Yemen, Rep.  2007  22211743.0      Asia    62.698   2280.769906\n",
      "1691              Zambia  2007  11746035.0    Africa    42.384   1271.211593\n",
      "1703            Zimbabwe  2007  12311143.0    Africa    43.487    469.709298\n",
      "\n",
      "[142 rows x 6 columns]\n",
      "...........................................................................................\n"
     ]
    }
   ],
   "source": [
    "print(brics_df.drop('capital_name_length',axis=1))\n",
    "print(\"...........................................................................................\")\n",
    "cars_df=pd.read_csv(\"E:\\CAREER_DATA\\data_files\\\\cars.txt\",index_col=0)\n",
    "print(cars_df)\n",
    "print(\"...........................................................................................\")\n",
    "gapminder_df=pd.read_csv(\"E:\\CAREER_DATA\\data_files\\\\gapminder.txt\",index_col=0)\n",
    "print(gapminder_df)\n",
    "print(\"...........................................................................................\")"
   ]
  },
  {
   "cell_type": "code",
   "execution_count": 10,
   "id": "59f70ecf",
   "metadata": {},
   "outputs": [
    {
     "name": "stdout",
     "output_type": "stream",
     "text": [
      "     cars_per_cap        country  drives_right\n",
      "IN             18          India         False\n",
      "EG             45          Egypt          True\n",
      "MOR            70        Morocco          True\n",
      "RU            200         Russia          True\n",
      "JAP           588          Japan         False\n",
      "AUS           731      Australia         False\n",
      "US            809  United States          True\n",
      "_______________________________________________________________________________________________\n",
      "Highest car per capita\n",
      "    cars_per_cap        country  drives_right\n",
      "US           809  United States          True\n",
      "_______________________________________________________________________________________________\n",
      "                    country  year    population      cont  life_exp  \\\n",
      "1307  Sao Tome and Principe  2007  1.995790e+05    Africa    65.528   \n",
      "695                 Iceland  2007  3.019310e+05    Europe    81.757   \n",
      "431                Djibouti  2007  4.963740e+05    Africa    54.791   \n",
      "491       Equatorial Guinea  2007  5.512010e+05    Africa    51.579   \n",
      "1019             Montenegro  2007  6.847360e+05    Europe    74.543   \n",
      "...                     ...   ...           ...       ...       ...   \n",
      "179                  Brazil  2007  1.900106e+08  Americas    72.390   \n",
      "719               Indonesia  2007  2.235470e+08      Asia    70.650   \n",
      "1619          United States  2007  3.011399e+08  Americas    78.242   \n",
      "707                   India  2007  1.110396e+09      Asia    64.698   \n",
      "299                   China  2007  1.318683e+09      Asia    72.961   \n",
      "\n",
      "           gdp_cap  \n",
      "1307   1598.435089  \n",
      "695   36180.789190  \n",
      "431    2082.481567  \n",
      "491   12154.089750  \n",
      "1019   9253.896111  \n",
      "...            ...  \n",
      "179    9065.800825  \n",
      "719    3540.651564  \n",
      "1619  42951.653090  \n",
      "707    2452.210407  \n",
      "299    4959.114854  \n",
      "\n",
      "[142 rows x 6 columns]\n",
      "_______________________________________________________________________________________________\n",
      "5 Least Populated and Highest GDP country is\n",
      "                    country  year  population    cont  life_exp       gdp_cap\n",
      "1307  Sao Tome and Principe  2007    199579.0  Africa    65.528   1598.435089\n",
      "695                 Iceland  2007    301931.0  Europe    81.757  36180.789190\n",
      "431                Djibouti  2007    496374.0  Africa    54.791   2082.481567\n",
      "491       Equatorial Guinea  2007    551201.0  Africa    51.579  12154.089750\n",
      "1019             Montenegro  2007    684736.0  Europe    74.543   9253.896111\n"
     ]
    }
   ],
   "source": [
    "#sort values of a column\n",
    "cars_df=cars_df.sort_values(\"cars_per_cap\")\n",
    "print(cars_df)\n",
    "print(\"_______________________________________________________________________________________________\")\n",
    "print(\"Highest car per capita\")\n",
    "print(cars_df.tail(1))\n",
    "print(\"_______________________________________________________________________________________________\")\n",
    "#sort one column in ascending order and other in descending order\n",
    "gapminder_df=gapminder_df.sort_values([\"population\",\"gdp_cap\"],ascending=[True,False])\n",
    "print(gapminder_df)\n",
    "print(\"_______________________________________________________________________________________________\")\n",
    "print(\"5 Least Populated and Highest GDP country is\")\n",
    "print(gapminder_df.head(5))"
   ]
  },
  {
   "cell_type": "markdown",
   "id": "af75ebe4",
   "metadata": {},
   "source": [
    "<h1>Hardcore subsetting</h1>"
   ]
  },
  {
   "cell_type": "code",
   "execution_count": 11,
   "id": "2f0593d3",
   "metadata": {},
   "outputs": [
    {
     "name": "stdout",
     "output_type": "stream",
     "text": [
      "             country  year  population    cont  life_exp      gdp_cap\n",
      "695          Iceland  2007    301931.0  Europe    81.757  36180.78919\n",
      "755          Ireland  2007   4109086.0  Europe    78.885  40675.99635\n",
      "1151          Norway  2007   4627926.0  Europe    80.196  49357.19017\n",
      "527          Finland  2007   5238460.0  Europe    79.313  33207.08440\n",
      "419          Denmark  2007   5468120.0  Europe    78.332  35278.41874\n",
      "1487     Switzerland  2007   7554661.0  Europe    81.701  37506.41907\n",
      "83           Austria  2007   8199783.0  Europe    79.829  36126.49270\n",
      "1475          Sweden  2007   9031088.0  Europe    80.884  33859.74835\n",
      "119          Belgium  2007  10392226.0  Europe    79.441  33692.60508\n",
      "1091     Netherlands  2007  16570613.0  Europe    79.762  36797.93332\n",
      "1607  United Kingdom  2007  60776238.0  Europe    79.425  33203.26128\n",
      "539           France  2007  61083916.0  Europe    80.657  30470.01670\n",
      "575          Germany  2007  82400996.0  Europe    79.406  32170.37442\n"
     ]
    }
   ],
   "source": [
    "#subsetting based on multiple conditions\n",
    "europe_gapminder=gapminder_df.loc[:,\"cont\"]==\"Europe\"\n",
    "#print(gapminder_df[europe_gapminder])\n",
    "\n",
    "life_exp_gapminder=gapminder_df.loc[:,\"life_exp\"]>70\n",
    "#print(gapminder_df[life_exp_gapminder])\n",
    "\n",
    "gdp_gapminder=gapminder_df.loc[:,\"gdp_cap\"]>30000\n",
    "#print(gapminder_df[gdp_gapminder])\n",
    "\n",
    "print(gapminder_df[europe_gapminder & life_exp_gapminder & gdp_gapminder])"
   ]
  },
  {
   "cell_type": "markdown",
   "id": "bff9978b",
   "metadata": {},
   "source": [
    "<h1>The list of best countries to live in best countries inside europe is just mentioned above</h1>"
   ]
  },
  {
   "cell_type": "code",
   "execution_count": 38,
   "id": "c1b375af",
   "metadata": {},
   "outputs": [
    {
     "name": "stdout",
     "output_type": "stream",
     "text": [
      "['Africa' 'Europe' 'Asia' 'Americas' 'Oceania']\n"
     ]
    },
    {
     "data": {
      "text/html": [
       "<div>\n",
       "<style scoped>\n",
       "    .dataframe tbody tr th:only-of-type {\n",
       "        vertical-align: middle;\n",
       "    }\n",
       "\n",
       "    .dataframe tbody tr th {\n",
       "        vertical-align: top;\n",
       "    }\n",
       "\n",
       "    .dataframe thead th {\n",
       "        text-align: right;\n",
       "    }\n",
       "</style>\n",
       "<table border=\"1\" class=\"dataframe\">\n",
       "  <thead>\n",
       "    <tr style=\"text-align: right;\">\n",
       "      <th></th>\n",
       "      <th>country</th>\n",
       "      <th>year</th>\n",
       "      <th>population</th>\n",
       "      <th>cont</th>\n",
       "      <th>life_exp</th>\n",
       "      <th>gdp_cap</th>\n",
       "    </tr>\n",
       "  </thead>\n",
       "  <tbody>\n",
       "    <tr>\n",
       "      <th>695</th>\n",
       "      <td>Iceland</td>\n",
       "      <td>2007</td>\n",
       "      <td>301931.0</td>\n",
       "      <td>Europe</td>\n",
       "      <td>81.757</td>\n",
       "      <td>36180.78919</td>\n",
       "    </tr>\n",
       "    <tr>\n",
       "      <th>863</th>\n",
       "      <td>Kuwait</td>\n",
       "      <td>2007</td>\n",
       "      <td>2505559.0</td>\n",
       "      <td>Asia</td>\n",
       "      <td>77.588</td>\n",
       "      <td>47306.98978</td>\n",
       "    </tr>\n",
       "    <tr>\n",
       "      <th>755</th>\n",
       "      <td>Ireland</td>\n",
       "      <td>2007</td>\n",
       "      <td>4109086.0</td>\n",
       "      <td>Europe</td>\n",
       "      <td>78.885</td>\n",
       "      <td>40675.99635</td>\n",
       "    </tr>\n",
       "    <tr>\n",
       "      <th>1367</th>\n",
       "      <td>Singapore</td>\n",
       "      <td>2007</td>\n",
       "      <td>4553009.0</td>\n",
       "      <td>Asia</td>\n",
       "      <td>79.972</td>\n",
       "      <td>47143.17964</td>\n",
       "    </tr>\n",
       "    <tr>\n",
       "      <th>1151</th>\n",
       "      <td>Norway</td>\n",
       "      <td>2007</td>\n",
       "      <td>4627926.0</td>\n",
       "      <td>Europe</td>\n",
       "      <td>80.196</td>\n",
       "      <td>49357.19017</td>\n",
       "    </tr>\n",
       "    <tr>\n",
       "      <th>527</th>\n",
       "      <td>Finland</td>\n",
       "      <td>2007</td>\n",
       "      <td>5238460.0</td>\n",
       "      <td>Europe</td>\n",
       "      <td>79.313</td>\n",
       "      <td>33207.08440</td>\n",
       "    </tr>\n",
       "    <tr>\n",
       "      <th>419</th>\n",
       "      <td>Denmark</td>\n",
       "      <td>2007</td>\n",
       "      <td>5468120.0</td>\n",
       "      <td>Europe</td>\n",
       "      <td>78.332</td>\n",
       "      <td>35278.41874</td>\n",
       "    </tr>\n",
       "    <tr>\n",
       "      <th>671</th>\n",
       "      <td>Hong Kong, China</td>\n",
       "      <td>2007</td>\n",
       "      <td>6980412.0</td>\n",
       "      <td>Asia</td>\n",
       "      <td>82.208</td>\n",
       "      <td>39724.97867</td>\n",
       "    </tr>\n",
       "    <tr>\n",
       "      <th>1487</th>\n",
       "      <td>Switzerland</td>\n",
       "      <td>2007</td>\n",
       "      <td>7554661.0</td>\n",
       "      <td>Europe</td>\n",
       "      <td>81.701</td>\n",
       "      <td>37506.41907</td>\n",
       "    </tr>\n",
       "    <tr>\n",
       "      <th>83</th>\n",
       "      <td>Austria</td>\n",
       "      <td>2007</td>\n",
       "      <td>8199783.0</td>\n",
       "      <td>Europe</td>\n",
       "      <td>79.829</td>\n",
       "      <td>36126.49270</td>\n",
       "    </tr>\n",
       "    <tr>\n",
       "      <th>1475</th>\n",
       "      <td>Sweden</td>\n",
       "      <td>2007</td>\n",
       "      <td>9031088.0</td>\n",
       "      <td>Europe</td>\n",
       "      <td>80.884</td>\n",
       "      <td>33859.74835</td>\n",
       "    </tr>\n",
       "    <tr>\n",
       "      <th>119</th>\n",
       "      <td>Belgium</td>\n",
       "      <td>2007</td>\n",
       "      <td>10392226.0</td>\n",
       "      <td>Europe</td>\n",
       "      <td>79.441</td>\n",
       "      <td>33692.60508</td>\n",
       "    </tr>\n",
       "    <tr>\n",
       "      <th>1091</th>\n",
       "      <td>Netherlands</td>\n",
       "      <td>2007</td>\n",
       "      <td>16570613.0</td>\n",
       "      <td>Europe</td>\n",
       "      <td>79.762</td>\n",
       "      <td>36797.93332</td>\n",
       "    </tr>\n",
       "    <tr>\n",
       "      <th>1607</th>\n",
       "      <td>United Kingdom</td>\n",
       "      <td>2007</td>\n",
       "      <td>60776238.0</td>\n",
       "      <td>Europe</td>\n",
       "      <td>79.425</td>\n",
       "      <td>33203.26128</td>\n",
       "    </tr>\n",
       "    <tr>\n",
       "      <th>539</th>\n",
       "      <td>France</td>\n",
       "      <td>2007</td>\n",
       "      <td>61083916.0</td>\n",
       "      <td>Europe</td>\n",
       "      <td>80.657</td>\n",
       "      <td>30470.01670</td>\n",
       "    </tr>\n",
       "    <tr>\n",
       "      <th>575</th>\n",
       "      <td>Germany</td>\n",
       "      <td>2007</td>\n",
       "      <td>82400996.0</td>\n",
       "      <td>Europe</td>\n",
       "      <td>79.406</td>\n",
       "      <td>32170.37442</td>\n",
       "    </tr>\n",
       "    <tr>\n",
       "      <th>803</th>\n",
       "      <td>Japan</td>\n",
       "      <td>2007</td>\n",
       "      <td>127467972.0</td>\n",
       "      <td>Asia</td>\n",
       "      <td>82.603</td>\n",
       "      <td>31656.06806</td>\n",
       "    </tr>\n",
       "  </tbody>\n",
       "</table>\n",
       "</div>"
      ],
      "text/plain": [
       "               country  year   population    cont  life_exp      gdp_cap\n",
       "695            Iceland  2007     301931.0  Europe    81.757  36180.78919\n",
       "863             Kuwait  2007    2505559.0    Asia    77.588  47306.98978\n",
       "755            Ireland  2007    4109086.0  Europe    78.885  40675.99635\n",
       "1367         Singapore  2007    4553009.0    Asia    79.972  47143.17964\n",
       "1151            Norway  2007    4627926.0  Europe    80.196  49357.19017\n",
       "527            Finland  2007    5238460.0  Europe    79.313  33207.08440\n",
       "419            Denmark  2007    5468120.0  Europe    78.332  35278.41874\n",
       "671   Hong Kong, China  2007    6980412.0    Asia    82.208  39724.97867\n",
       "1487       Switzerland  2007    7554661.0  Europe    81.701  37506.41907\n",
       "83             Austria  2007    8199783.0  Europe    79.829  36126.49270\n",
       "1475            Sweden  2007    9031088.0  Europe    80.884  33859.74835\n",
       "119            Belgium  2007   10392226.0  Europe    79.441  33692.60508\n",
       "1091       Netherlands  2007   16570613.0  Europe    79.762  36797.93332\n",
       "1607    United Kingdom  2007   60776238.0  Europe    79.425  33203.26128\n",
       "539             France  2007   61083916.0  Europe    80.657  30470.01670\n",
       "575            Germany  2007   82400996.0  Europe    79.406  32170.37442\n",
       "803              Japan  2007  127467972.0    Asia    82.603  31656.06806"
      ]
     },
     "execution_count": 38,
     "metadata": {},
     "output_type": "execute_result"
    }
   ],
   "source": [
    "#use of isin()\n",
    "#.isin() basically aik column main 2 cheezon ki bunyaad pe filtering krni hai tab use hota hai, only uses with categorical variables\n",
    "print(gapminder_df[\"cont\"].unique())\n",
    "#finding best country in asia and europe\n",
    "asia_europe_gapminder=gapminder_df.loc[:,\"cont\"].isin([\"Asia\",\"Europe\"])\n",
    "above_seventy_age=gapminder_df.loc[:,\"life_exp\"]>70\n",
    "gdp_over_3000=gapminder_df.loc[:,\"gdp_cap\"]>30000\n",
    "\n",
    "best_asian_european=gapminder_df[asia_europe_gapminder & above_seventy_age & gdp_over_3000]\n",
    "best_asian_european"
   ]
  },
  {
   "cell_type": "markdown",
   "id": "7bcfbb05",
   "metadata": {},
   "source": [
    "<h1>Data Engineering</h1>"
   ]
  },
  {
   "cell_type": "code",
   "execution_count": 36,
   "id": "4922c427",
   "metadata": {},
   "outputs": [
    {
     "data": {
      "text/html": [
       "<div>\n",
       "<style scoped>\n",
       "    .dataframe tbody tr th:only-of-type {\n",
       "        vertical-align: middle;\n",
       "    }\n",
       "\n",
       "    .dataframe tbody tr th {\n",
       "        vertical-align: top;\n",
       "    }\n",
       "\n",
       "    .dataframe thead th {\n",
       "        text-align: right;\n",
       "    }\n",
       "</style>\n",
       "<table border=\"1\" class=\"dataframe\">\n",
       "  <thead>\n",
       "    <tr style=\"text-align: right;\">\n",
       "      <th></th>\n",
       "      <th>country</th>\n",
       "      <th>capital</th>\n",
       "      <th>area</th>\n",
       "      <th>population</th>\n",
       "      <th>density</th>\n",
       "    </tr>\n",
       "  </thead>\n",
       "  <tbody>\n",
       "    <tr>\n",
       "      <th>IN</th>\n",
       "      <td>India</td>\n",
       "      <td>New Delhi</td>\n",
       "      <td>3.286</td>\n",
       "      <td>1252.00</td>\n",
       "      <td>381.010347</td>\n",
       "    </tr>\n",
       "    <tr>\n",
       "      <th>CH</th>\n",
       "      <td>China</td>\n",
       "      <td>Beijing</td>\n",
       "      <td>9.597</td>\n",
       "      <td>1357.00</td>\n",
       "      <td>141.398354</td>\n",
       "    </tr>\n",
       "    <tr>\n",
       "      <th>SA</th>\n",
       "      <td>South Africa</td>\n",
       "      <td>Pretoria</td>\n",
       "      <td>1.221</td>\n",
       "      <td>52.98</td>\n",
       "      <td>43.390663</td>\n",
       "    </tr>\n",
       "    <tr>\n",
       "      <th>BR</th>\n",
       "      <td>Brazil</td>\n",
       "      <td>Brasilia</td>\n",
       "      <td>8.516</td>\n",
       "      <td>200.40</td>\n",
       "      <td>23.532175</td>\n",
       "    </tr>\n",
       "    <tr>\n",
       "      <th>RU</th>\n",
       "      <td>Russia</td>\n",
       "      <td>Moscow</td>\n",
       "      <td>17.100</td>\n",
       "      <td>143.50</td>\n",
       "      <td>8.391813</td>\n",
       "    </tr>\n",
       "  </tbody>\n",
       "</table>\n",
       "</div>"
      ],
      "text/plain": [
       "         country    capital    area  population     density\n",
       "IN         India  New Delhi   3.286     1252.00  381.010347\n",
       "CH         China    Beijing   9.597     1357.00  141.398354\n",
       "SA  South Africa   Pretoria   1.221       52.98   43.390663\n",
       "BR        Brazil   Brasilia   8.516      200.40   23.532175\n",
       "RU        Russia     Moscow  17.100      143.50    8.391813"
      ]
     },
     "execution_count": 36,
     "metadata": {},
     "output_type": "execute_result"
    }
   ],
   "source": [
    "#brics_df=brics_df.drop(\"capital_name_length\",axis=1)\n",
    "#brics_df\n",
    "#densiest countries\n",
    "brics_df[\"density\"]=brics_df[\"population\"]/brics_df[\"area\"]\n",
    "#brics_df\n",
    "brics_df=brics_df.sort_values(\"density\",ascending=False)\n",
    "brics_df"
   ]
  },
  {
   "cell_type": "markdown",
   "id": "992ed281",
   "metadata": {},
   "source": [
    "<h1>Exporting File</h1>"
   ]
  },
  {
   "cell_type": "code",
   "execution_count": 40,
   "id": "7eadcd6b",
   "metadata": {},
   "outputs": [],
   "source": [
    "#sasti data analysis\n",
    "#brics_df.to_csv(\"E:\\CAREER_DATA\\data_files\\\\brics_df.csv\",index=False)\n",
    "#best_asian_european.to_csv(\"E:\\CAREER_DATA\\data_files\\\\best_asian_european_living_df.csv\",index=False)"
   ]
  },
  {
   "cell_type": "markdown",
   "id": "400b095c",
   "metadata": {},
   "source": []
  }
 ],
 "metadata": {
  "kernelspec": {
   "display_name": "Python 3 (ipykernel)",
   "language": "python",
   "name": "python3"
  },
  "language_info": {
   "codemirror_mode": {
    "name": "ipython",
    "version": 3
   },
   "file_extension": ".py",
   "mimetype": "text/x-python",
   "name": "python",
   "nbconvert_exporter": "python",
   "pygments_lexer": "ipython3",
   "version": "3.9.13"
  }
 },
 "nbformat": 4,
 "nbformat_minor": 5
}
