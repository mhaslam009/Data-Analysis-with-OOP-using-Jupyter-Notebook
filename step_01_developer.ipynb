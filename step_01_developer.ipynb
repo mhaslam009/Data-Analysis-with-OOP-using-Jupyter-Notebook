{
 "cells": [
  {
   "cell_type": "markdown",
   "id": "290f7c3a",
   "metadata": {},
   "source": [
    "<h1>Solve easy problems</h1>"
   ]
  },
  {
   "cell_type": "markdown",
   "id": "e8cfbc53",
   "metadata": {},
   "source": [
    "<h2>Grades Calculator</h2>\n",
    "<p>Create a program that takes a list of student names and their scores as input. Calculate and print the grades for each student based on the following criteria: A (90-100), B (80-89), C (70-79), D (60-69), F (below 60).</p>"
   ]
  },
  {
   "cell_type": "code",
   "execution_count": 2,
   "id": "99261b09",
   "metadata": {},
   "outputs": [
    {
     "data": {
      "text/plain": [
       "'\\ndict_students={}\\nprint(\"------------------------------------------------------------\")\\nfor i in range(1,3): #5 students will enroll\\n    students=input(f\"Enter {i}-Student Name:\")\\n    grade=int(input(\"Enter his grade :\"))\\n    dict_students[students]=grade\\nprint(dict_students)\\n\\n#assign grade:\\nfor i_key, i_val in dict_students.items():\\n    if i_val < 60:\\n        print(f\\'The student {i_key} is considered fail with {i_val} marks\\')\\n    else:\\n        print(f\\'The student {i_key} is considered pass with {i_val} marks\\')\\n\\nprint(\"____________________________\")\\n\\n'"
      ]
     },
     "execution_count": 2,
     "metadata": {},
     "output_type": "execute_result"
    }
   ],
   "source": [
    "\"\"\"\n",
    "dict_students={}\n",
    "print(\"------------------------------------------------------------\")\n",
    "for i in range(1,3): #5 students will enroll\n",
    "    students=input(f\"Enter {i}-Student Name:\")\n",
    "    grade=int(input(\"Enter his grade :\"))\n",
    "    dict_students[students]=grade\n",
    "print(dict_students)\n",
    "\n",
    "#assign grade:\n",
    "for i_key, i_val in dict_students.items():\n",
    "    if i_val < 60:\n",
    "        print(f'The student {i_key} is considered fail with {i_val} marks')\n",
    "    else:\n",
    "        print(f'The student {i_key} is considered pass with {i_val} marks')\n",
    "\n",
    "print(\"____________________________\")\n",
    "\n",
    "\"\"\""
   ]
  },
  {
   "cell_type": "markdown",
   "id": "dbd6600b",
   "metadata": {},
   "source": [
    "<h2>Even and Odd Lists:</h2>\n",
    "<p>Write a program that takes a list of numbers as input. Separate the even and odd numbers into two different lists and print both lists.</p>"
   ]
  },
  {
   "cell_type": "code",
   "execution_count": 4,
   "id": "a17a1679",
   "metadata": {},
   "outputs": [
    {
     "data": {
      "text/plain": [
       "'\\ninp_list=[]\\nhow_many_num_you_want=int(input(\"How many numbers you want to input?\"))\\nfor i in range(how_many_num_you_want):\\n    ent_num=int(input(\"Enter Number:\"))\\n    inp_list.append(ent_num)\\nprint(inp_list)\\n\\n#evaluate whether it is odd or even, simple method if divisible by 2 its even\\nfor i in inp_list:\\n    if i%2==0:\\n        print(f\"{i} is even\")\\n    else:\\n        print(f\"{i} is odd\")\\n        \\n'"
      ]
     },
     "execution_count": 4,
     "metadata": {},
     "output_type": "execute_result"
    }
   ],
   "source": [
    "\"\"\"\n",
    "inp_list=[]\n",
    "how_many_num_you_want=int(input(\"How many numbers you want to input?\"))\n",
    "for i in range(how_many_num_you_want):\n",
    "    ent_num=int(input(\"Enter Number:\"))\n",
    "    inp_list.append(ent_num)\n",
    "print(inp_list)\n",
    "\n",
    "#evaluate whether it is odd or even, simple method if divisible by 2 its even\n",
    "for i in inp_list:\n",
    "    if i%2==0:\n",
    "        print(f\"{i} is even\")\n",
    "    else:\n",
    "        print(f\"{i} is odd\")\n",
    "        \n",
    "\"\"\""
   ]
  },
  {
   "cell_type": "markdown",
   "id": "a6098f70",
   "metadata": {},
   "source": [
    "<h2>FizzBuzz</h2>\n",
    "<p>Write a program that prints numbers from 1 to 100. For multiples of 3, print \"Fizz.\" For multiples of 5, print \"Buzz.\" For numbers that are multiples of both 3 and 5, print \"FizzBuzz.\"</p>"
   ]
  },
  {
   "cell_type": "code",
   "execution_count": 6,
   "id": "78f5cce3",
   "metadata": {},
   "outputs": [
    {
     "name": "stdout",
     "output_type": "stream",
     "text": [
      "Buzz\n",
      "Fizz\n",
      "FizzBuzz\n",
      "Fizz\n",
      "FizzBuzz\n",
      "Buzz\n",
      "Fizz\n",
      "FizzBuzz\n",
      "Fizz\n",
      "Buzz\n",
      "FizzBuzz\n",
      "Fizz\n",
      "FizzBuzz\n",
      "Buzz\n",
      "Fizz\n",
      "FizzBuzz\n",
      "Fizz\n",
      "FizzBuzz\n",
      "Buzz\n",
      "Fizz\n",
      "FizzBuzz\n",
      "Fizz\n",
      "Buzz\n",
      "FizzBuzz\n",
      "Fizz\n",
      "FizzBuzz\n",
      "Buzz\n",
      "Fizz\n",
      "FizzBuzz\n",
      "Fizz\n",
      "FizzBuzz\n",
      "Buzz\n",
      "Fizz\n",
      "FizzBuzz\n",
      "Fizz\n",
      "Buzz\n",
      "FizzBuzz\n",
      "Fizz\n",
      "FizzBuzz\n",
      "Buzz\n",
      "Fizz\n",
      "FizzBuzz\n",
      "Fizz\n",
      "FizzBuzz\n",
      "Buzz\n",
      "Fizz\n",
      "FizzBuzz\n",
      "Fizz\n",
      "Buzz\n",
      "FizzBuzz\n",
      "Fizz\n",
      "FizzBuzz\n",
      "Buzz\n",
      "Fizz\n",
      "FizzBuzz\n",
      "Fizz\n",
      "FizzBuzz\n",
      "Buzz\n",
      "Fizz\n",
      "FizzBuzz\n",
      "Fizz\n",
      "Buzz\n",
      "FizzBuzz\n",
      "Fizz\n",
      "FizzBuzz\n",
      "Buzz\n",
      "Fizz\n",
      "FizzBuzz\n",
      "Fizz\n",
      "FizzBuzz\n",
      "Buzz\n",
      "Fizz\n",
      "FizzBuzz\n",
      "Fizz\n",
      "Buzz\n",
      "FizzBuzz\n",
      "Fizz\n",
      "FizzBuzz\n",
      "Buzz\n",
      "Fizz\n",
      "FizzBuzz\n",
      "Fizz\n",
      "FizzBuzz\n",
      "Buzz\n",
      "Fizz\n",
      "FizzBuzz\n"
     ]
    }
   ],
   "source": [
    "\n",
    "fizz_buzz_number=100\n",
    "while fizz_buzz_number > 0:\n",
    "    if fizz_buzz_number % 3 == 0:\n",
    "        print(\"Fizz\")\n",
    "    if fizz_buzz_number % 5 == 0:\n",
    "        print(\"Buzz\")\n",
    "    if fizz_buzz_number % 3 == 0 & fizz_buzz_number % 5 ==0:\n",
    "        print(\"FizzBuzz\")\n",
    "    \n",
    "    \n",
    "    fizz_buzz_number=fizz_buzz_number-1\n"
   ]
  },
  {
   "cell_type": "markdown",
   "id": "2a9a0add",
   "metadata": {},
   "source": [
    "<h2>Pellindrome:</h2>\n",
    "<p>Input aa word that must be pellindrome, example radar, bob are pellindrome but hello, daddy are not pellindrome words</p>"
   ]
  },
  {
   "cell_type": "code",
   "execution_count": 23,
   "id": "f6641b81",
   "metadata": {},
   "outputs": [
    {
     "name": "stdout",
     "output_type": "stream",
     "text": [
      "Enter a word to test palindrome: word\n",
      "w\n",
      "ow\n",
      "row\n",
      "drow\n",
      "FUCK YOU HAHA\n"
     ]
    }
   ],
   "source": [
    "word_palindrome = input(\"Enter a word to test palindrome: \")\n",
    "reverse_ordered = \"\"\n",
    "\n",
    "for w in word_palindrome:\n",
    "    reverse_ordered = w + reverse_ordered\n",
    "    print(reverse_ordered)\n",
    "    \n",
    "#print(reverse_ordered)\n",
    "if reverse_ordered == word_palindrome:\n",
    "    print(\"...Entered word is pallindrome...\")\n",
    "else:\n",
    "    print(\"FUCK YOU HAHA\")\n",
    "\n",
    "#print(reversed(reverse_ordered))"
   ]
  }
 ],
 "metadata": {
  "kernelspec": {
   "display_name": "Python 3 (ipykernel)",
   "language": "python",
   "name": "python3"
  },
  "language_info": {
   "codemirror_mode": {
    "name": "ipython",
    "version": 3
   },
   "file_extension": ".py",
   "mimetype": "text/x-python",
   "name": "python",
   "nbconvert_exporter": "python",
   "pygments_lexer": "ipython3",
   "version": "3.9.13"
  }
 },
 "nbformat": 4,
 "nbformat_minor": 5
}
