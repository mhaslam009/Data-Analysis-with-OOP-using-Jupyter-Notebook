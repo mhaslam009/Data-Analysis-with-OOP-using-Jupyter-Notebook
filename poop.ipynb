{
 "cells": [
  {
   "cell_type": "markdown",
   "id": "cd74f293",
   "metadata": {},
   "source": [
    "<h1>Python Object Oriented Programming</h1>"
   ]
  },
  {
   "cell_type": "markdown",
   "id": "4eaa2587",
   "metadata": {},
   "source": [
    "<h2>Creating lass and object</h2>"
   ]
  },
  {
   "cell_type": "code",
   "execution_count": 4,
   "id": "a7b4bc52",
   "metadata": {},
   "outputs": [
    {
     "name": "stdout",
     "output_type": "stream",
     "text": [
      "<class 'type'>\n",
      "<class '__main__.Item'>\n",
      "iphone\n",
      "2000\n",
      "20\n"
     ]
    }
   ],
   "source": [
    "class Item:\n",
    "    pass #exits the class\n",
    "\n",
    "item1=Item() #object has created named 'item1' #you have created new datatype\n",
    "#now assign some attributes to objects of class\n",
    "item1.name=\"iphone\"\n",
    "item1.price=2000\n",
    "item1.quantity=20\n",
    "\n",
    "print(type(Item))\n",
    "print(type(item1)) #we have created a new datatype\n",
    "print(item1.name)\n",
    "print(item1.price)\n",
    "print(item1.quantity)\n"
   ]
  },
  {
   "cell_type": "markdown",
   "id": "02c4498e",
   "metadata": {},
   "source": [
    "<h2>Step by step process of creating a class object and attributes</h2>\n",
    "<ul>\n",
    "    <li>Create a class</li>\n",
    "    <li>Create a method(returnable)</li>\n",
    "    <li>Create an object(class interface to real world)</li>\n",
    "    <li>Create attributes(data holder)</li>\n",
    "    <li>call method on object and pass attributes as arguements</li>\n",
    "    </ul>"
   ]
  },
  {
   "cell_type": "code",
   "execution_count": 3,
   "id": "2b6231a3",
   "metadata": {},
   "outputs": [
    {
     "name": "stdout",
     "output_type": "stream",
     "text": [
      "180000\n"
     ]
    }
   ],
   "source": [
    "class My_fist_class: #class\n",
    "    def calculate_inventory(self,x,y): #method\n",
    "        return x*y\n",
    "\n",
    "real_world_interface=My_fist_class() #object\n",
    "real_world_interface.price=9000 #attribute\n",
    "real_world_interface.quantity=20 #attribute\n",
    "real_world_answer=real_world_interface.calculate_inventory(\n",
    "    real_world_interface.price,real_world_interface.quantity) #method calling\n",
    "print(real_world_answer)"
   ]
  },
  {
   "cell_type": "markdown",
   "id": "b4b5162b",
   "metadata": {},
   "source": [
    "<h2>Poblems in OOP</h2>\n",
    "<p>One of the first problem is we have to hard code(repeat) everytime we have to pass the attribute, like in previos case,<br>\n",
    "<b>Solution would be</b>\n",
    "Conditioned the object to be created only if the attributes passed\n",
    "</p>"
   ]
  },
  {
   "cell_type": "markdown",
   "id": "cd53e016",
   "metadata": {},
   "source": [
    "<h3>New Method named as constructor appeared</h3>"
   ]
  },
  {
   "cell_type": "code",
   "execution_count": 7,
   "id": "d16c7224",
   "metadata": {},
   "outputs": [
    {
     "name": "stdout",
     "output_type": "stream",
     "text": [
      "Name object--- Iphone ---has created in constructor\n",
      "Name object--- pocoX3 NFC ---has created in constructor\n"
     ]
    }
   ],
   "source": [
    "class My_method_01:\n",
    "    def __init__(self,name):\n",
    "        print(f\"Name object--- {name} ---has created in constructor\")\n",
    "    def calculate_inventory(self,x,y): #method\n",
    "        return x*y\n",
    "obj_01=My_method_01(\"Iphone\") #object1\n",
    "obj_02=My_method_01(\"pocoX3 NFC\") #object2\n",
    "#now you can just load data in object and you dont need to hardcode atrributes\n",
    "\n",
    "\n",
    "#real_world_interface.price=9000 #attribute\n",
    "#real_world_interface.quantity=20 #attribute\n",
    "#print(real_world_answer)\n"
   ]
  },
  {
   "cell_type": "markdown",
   "id": "d364ecd7",
   "metadata": {},
   "source": [
    "<h3>Dynamic Attribute Assignment</h3>"
   ]
  },
  {
   "cell_type": "code",
   "execution_count": 5,
   "id": "efc869fa",
   "metadata": {},
   "outputs": [
    {
     "name": "stdout",
     "output_type": "stream",
     "text": [
      "<__main__.My_method_02 object at 0x00000261024A8C70>\n",
      "Iphone\n",
      "1000\n",
      "2\n",
      "______\n",
      "pocoX3 NFC\n",
      "500\n",
      "5\n"
     ]
    }
   ],
   "source": [
    "class My_method_02:\n",
    "    def __init__(self,name,price,quantity):#this only executes after object creation\n",
    "        #dynamic attribute\n",
    "        self.name=name #assigning name attribute to each object have created\n",
    "        self.quantity=quantity\n",
    "        self.price=price\n",
    "    def calculate_inventory(self,x,y): #method #this executes from attribute applying to object\n",
    "        return x*y\n",
    "obj_03=My_method_02(\"Iphone\",1000,2) #object1\n",
    "\n",
    "obj_04=My_method_02(\"pocoX3 NFC\", 500, 5) #object2\n",
    "#now you can just apply attribute to a an object\n",
    "print(obj_03)\n",
    "\n",
    "#apply atrtributes that have created inside constructor\n",
    "print(obj_03.name)\n",
    "print(obj_03.price)\n",
    "print(obj_03.quantity)\n",
    "\n",
    "print(\"______\")\n",
    "print(obj_04.name)\n",
    "print(obj_04.price)\n",
    "print(obj_04.quantity)"
   ]
  },
  {
   "cell_type": "code",
   "execution_count": 8,
   "id": "a0af5c6b",
   "metadata": {},
   "outputs": [
    {
     "name": "stdout",
     "output_type": "stream",
     "text": [
      "Iphone\n",
      "7000\n",
      "20\n",
      "140000\n"
     ]
    }
   ],
   "source": [
    "class My_class_01:\n",
    "    def __init__(self,name,quan,price=0):\n",
    "        self.name=name\n",
    "        self.quan=quan\n",
    "        self.price=price\n",
    "    def calc_01(self):\n",
    "        return self.quan*self.price\n",
    "        \n",
    "item1=My_class_01(\"Iphone\", 20, 7000)\n",
    "print(item1.name)\n",
    "print(item1.price)\n",
    "print(item1.quan)\n",
    "print(item1.calc_01())"
   ]
  },
  {
   "cell_type": "code",
   "execution_count": 1,
   "id": "47dc6db2",
   "metadata": {},
   "outputs": [
    {
     "name": "stdout",
     "output_type": "stream",
     "text": [
      "Iphone\n",
      "2000\n",
      "Poco\n",
      "10000\n"
     ]
    }
   ],
   "source": [
    "class My_class_02: #class creation\n",
    "    def __init__(self, name:str, price:int, quantity=0):\n",
    "        #validating recieving argument\n",
    "        assert price >= 0, f\"{price} is not > 0\"\n",
    "        assert quantity > 0, f\"{quantity} is not greater than 0\"\n",
    "        #assigning attributes\n",
    "        self.name=name #attributes creation\n",
    "        self.price=price #attributes creation\n",
    "        self.quantity=quantity #attributes creation\n",
    "    \n",
    "    \n",
    "    \n",
    "    def calculate_inventory(self): #method creation\n",
    "        return self.price * self.quantity\n",
    "    \n",
    "item1= My_class_02(\"Iphone\", 1000, 2) #object creation\n",
    "item2= My_class_02(\"Poco\", 500, 20) #object creation\n",
    "\n",
    "\n",
    "\n",
    "print(item1.name) #accesing attribute of obj->item1\n",
    "print(item1.calculate_inventory()) #accesing method of obj->item1\n",
    "print(item2.name) #accesing attribute of obj->item2\n",
    "print(item2.calculate_inventory()) #accesing method of obj->item2"
   ]
  },
  {
   "cell_type": "code",
   "execution_count": 20,
   "id": "b7ad607f",
   "metadata": {},
   "outputs": [
    {
     "name": "stdout",
     "output_type": "stream",
     "text": [
      "Iphone\n",
      "200\n",
      "2000\n",
      "_______________\n",
      "100000\n",
      "2400\n",
      "_______________\n",
      "10000\n",
      "7000.0\n",
      "200\n",
      "_________________\n",
      "600\n",
      "300.0\n"
     ]
    }
   ],
   "source": [
    "class My_class_04:#class\n",
    "    discount=0.7 #class attribute\n",
    "    def __init__(self, name:str, price:float, quantity:int):\n",
    "        #validate recieving arguments\n",
    "        assert price >= 0, f\"{price} is lower than 0 \"\n",
    "        assert quantity >= 0, f\"{quantity} is lower than 0 \"\n",
    "        self.name=name\n",
    "        self.price=price\n",
    "        self.quantity=quantity\n",
    "    def calculation(self):\n",
    "        return self.price*self.quantity\n",
    "    def discounting(self):\n",
    "        self.price=self.price*self.discount\n",
    "\n",
    "#objects craeted\n",
    "entry_01=My_class_04(\"Iphone\",10000,10)\n",
    "entry_02=My_class_04(\"Iphone\",200,200)\n",
    "entry_03=My_class_04(\"Iphone\",20,2000)\n",
    "entry_04=My_class_04(\"Iphone\",600,4)\n",
    "entry_05=My_class_04(\"Iphone\",0,100000)\n",
    "\n",
    "#access attributes\n",
    "print(entry_01.name)\n",
    "print(entry_02.price)\n",
    "print(entry_03.quantity)\n",
    "print(\"_______________\")\n",
    "\n",
    "#access methods\n",
    "print(entry_01.calculation())\n",
    "print(entry_04.calculation())\n",
    "print(\"_______________\")\n",
    "\n",
    "\n",
    "print(entry_01.price)\n",
    "#access class attribute->discount() method\n",
    "entry_01.discounting() #it changes the price of entry_01\n",
    "print(entry_01.price) #extract the attribute which have gone through a change\n",
    "#entry_01 price has changed\n",
    "print(entry_02.price)\n",
    "#entry_02 price have not changed because we didnt apply discounting method\n",
    "\n",
    "print(\"_________________\")\n",
    "print(entry_04.price)\n",
    "#overriding the class attribute which is discount variable then using discounting() method\n",
    "entry_04.discount = 0.5 #50% discount overriding class attribute discount variable\n",
    "entry_04.discounting()\n",
    "print(entry_04.price)"
   ]
  },
  {
   "cell_type": "markdown",
   "id": "49cb1cb9",
   "metadata": {},
   "source": [
    "<h2>Loading objects into a list</h2>"
   ]
  },
  {
   "cell_type": "code",
   "execution_count": 27,
   "id": "dd8a67b8",
   "metadata": {},
   "outputs": [
    {
     "name": "stdout",
     "output_type": "stream",
     "text": [
      "Iphone\n",
      "200\n",
      "2000\n",
      "_______________\n",
      "100000\n",
      "2400\n",
      "_______________\n",
      "10000\n",
      "7000.0\n",
      "200\n",
      "_________________\n",
      "600\n",
      "300.0\n",
      "____________________\n",
      "[<__main__.My_class_04 object at 0x000002570131ABB0>, <__main__.My_class_04 object at 0x000002570131AA00>, <__main__.My_class_04 object at 0x00000257016CAAF0>, <__main__.My_class_04 object at 0x00000257016CAB20>, <__main__.My_class_04 object at 0x0000025701AAF760>]\n",
      "Iphone\n",
      "10\n",
      "_____________\n",
      "Iphone\n",
      "200\n",
      "_____________\n",
      "Iphone\n",
      "2000\n",
      "_____________\n",
      "Iphone\n",
      "4\n",
      "_____________\n",
      "Iphone\n",
      "100000\n",
      "_____________\n"
     ]
    }
   ],
   "source": [
    "class My_class_04:#class\n",
    "    discount=0.7 #class attribute\n",
    "    list_of_objects=[]\n",
    "    def __init__(self, name:str, price:float, quantity:int):\n",
    "        #validate recieving arguments\n",
    "        assert price >= 0, f\"{price} is lower than 0 \"\n",
    "        assert quantity >= 0, f\"{quantity} is lower than 0 \"\n",
    "        self.name=name\n",
    "        self.price=price\n",
    "        self.quantity=quantity\n",
    "        \n",
    "        #saving objects to list_of_objects\n",
    "        My_class_04.list_of_objects.append(self)\n",
    "        \n",
    "    def calculation(self):\n",
    "        return self.price*self.quantity\n",
    "    def discounting(self):\n",
    "        self.price=self.price*self.discount\n",
    "\n",
    "#objects craeted\n",
    "entry_01=My_class_04(\"Iphone\",10000,10)\n",
    "entry_02=My_class_04(\"Iphone\",200,200)\n",
    "entry_03=My_class_04(\"Iphone\",20,2000)\n",
    "entry_04=My_class_04(\"Iphone\",600,4)\n",
    "entry_05=My_class_04(\"Iphone\",0,100000)\n",
    "\n",
    "#access attributes\n",
    "print(entry_01.name)\n",
    "print(entry_02.price)\n",
    "print(entry_03.quantity)\n",
    "print(\"_______________\")\n",
    "\n",
    "#access methods\n",
    "print(entry_01.calculation())\n",
    "print(entry_04.calculation())\n",
    "print(\"_______________\")\n",
    "\n",
    "\n",
    "print(entry_01.price)\n",
    "#access class attribute->discount() method\n",
    "entry_01.discounting() #it changes the price of entry_01\n",
    "print(entry_01.price) #extract the attribute which have gone through a change\n",
    "#entry_01 price has changed\n",
    "print(entry_02.price)\n",
    "#entry_02 price have not changed because we didnt apply discounting method\n",
    "\n",
    "print(\"_________________\")\n",
    "print(entry_04.price)\n",
    "#overriding the class attribute which is discount variable then using discounting() method\n",
    "entry_04.discount = 0.5 #50% discount overriding class attribute discount variable\n",
    "entry_04.discounting()\n",
    "print(entry_04.price)\n",
    "print(\"____________________\")\n",
    "\n",
    "\n",
    "#access list of objects\n",
    "print(My_class_04.list_of_objects)\n",
    "#access attribute from object\n",
    "\n",
    "#print(My_class_04.list_of_objects.name)\n",
    "#failed\n",
    "\n",
    "#again access attribute from a list of object\n",
    "for i in My_class_04.list_of_objects:\n",
    "    print(i.name) #name attribute from objects list\n",
    "    print(i.quantity) #quantity object from a list of objects\n",
    "    print(\"_____________\")"
   ]
  },
  {
   "cell_type": "markdown",
   "id": "bdc18295",
   "metadata": {},
   "source": [
    "<h2>Representing issue from that list</h2>"
   ]
  },
  {
   "cell_type": "code",
   "execution_count": 28,
   "id": "cbd2d53e",
   "metadata": {},
   "outputs": [
    {
     "name": "stdout",
     "output_type": "stream",
     "text": [
      "Iphone\n",
      "200\n",
      "2000\n",
      "_______________\n",
      "100000\n",
      "2400\n",
      "_______________\n",
      "10000\n",
      "7000.0\n",
      "200\n",
      "_________________\n",
      "600\n",
      "300.0\n",
      "____________________\n",
      "[object('Iphone',7000.0,10), object('Iphone',200,200), object('Iphone',20,2000), object('Iphone',300.0,4), object('Iphone',0,100000)]\n",
      "Iphone\n",
      "10\n",
      "_____________\n",
      "Iphone\n",
      "200\n",
      "_____________\n",
      "Iphone\n",
      "2000\n",
      "_____________\n",
      "Iphone\n",
      "4\n",
      "_____________\n",
      "Iphone\n",
      "100000\n",
      "_____________\n"
     ]
    }
   ],
   "source": [
    "class My_class_04:#class\n",
    "    discount=0.7 #class attribute\n",
    "    list_of_objects=[]\n",
    "    def __init__(self, name:str, price:float, quantity:int):\n",
    "        #validate recieving arguments\n",
    "        assert price >= 0, f\"{price} is lower than 0 \"\n",
    "        assert quantity >= 0, f\"{quantity} is lower than 0 \"\n",
    "        self.name=name\n",
    "        self.price=price\n",
    "        self.quantity=quantity\n",
    "        \n",
    "        #saving objects to list_of_objects\n",
    "        My_class_04.list_of_objects.append(self)\n",
    "        \n",
    "    def calculation(self):\n",
    "        return self.price*self.quantity\n",
    "    def discounting(self):\n",
    "        self.price=self.price*self.discount\n",
    "        \n",
    "    def __repr__(self):\n",
    "        return f\"object('{self.name}',{self.price},{self.quantity})\"\n",
    "\n",
    "#objects craeted\n",
    "entry_01=My_class_04(\"Iphone\",10000,10)\n",
    "entry_02=My_class_04(\"Iphone\",200,200)\n",
    "entry_03=My_class_04(\"Iphone\",20,2000)\n",
    "entry_04=My_class_04(\"Iphone\",600,4)\n",
    "entry_05=My_class_04(\"Iphone\",0,100000)\n",
    "\n",
    "#access attributes\n",
    "print(entry_01.name)\n",
    "print(entry_02.price)\n",
    "print(entry_03.quantity)\n",
    "print(\"_______________\")\n",
    "\n",
    "#access methods\n",
    "print(entry_01.calculation())\n",
    "print(entry_04.calculation())\n",
    "print(\"_______________\")\n",
    "\n",
    "\n",
    "print(entry_01.price)\n",
    "#access class attribute->discount() method\n",
    "entry_01.discounting() #it changes the price of entry_01\n",
    "print(entry_01.price) #extract the attribute which have gone through a change\n",
    "#entry_01 price has changed\n",
    "print(entry_02.price)\n",
    "#entry_02 price have not changed because we didnt apply discounting method\n",
    "\n",
    "print(\"_________________\")\n",
    "print(entry_04.price)\n",
    "#overriding the class attribute which is discount variable then using discounting() method\n",
    "entry_04.discount = 0.5 #50% discount overriding class attribute discount variable\n",
    "entry_04.discounting()\n",
    "print(entry_04.price)\n",
    "print(\"____________________\")\n",
    "\n",
    "\n",
    "#access list of objects\n",
    "print(My_class_04.list_of_objects)\n",
    "#access attribute from object\n",
    "\n",
    "#print(My_class_04.list_of_objects.name)\n",
    "#failed\n",
    "\n",
    "#again access attribute from a list of object\n",
    "for i in My_class_04.list_of_objects:\n",
    "    print(i.name) #name attribute from objects list\n",
    "    print(i.quantity) #quantity object from a list of objects\n",
    "    print(\"_____________\")"
   ]
  }
 ],
 "metadata": {
  "kernelspec": {
   "display_name": "Python 3 (ipykernel)",
   "language": "python",
   "name": "python3"
  },
  "language_info": {
   "codemirror_mode": {
    "name": "ipython",
    "version": 3
   },
   "file_extension": ".py",
   "mimetype": "text/x-python",
   "name": "python",
   "nbconvert_exporter": "python",
   "pygments_lexer": "ipython3",
   "version": "3.9.13"
  }
 },
 "nbformat": 4,
 "nbformat_minor": 5
}
